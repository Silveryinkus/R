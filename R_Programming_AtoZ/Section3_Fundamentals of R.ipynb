{
 "cells": [
  {
   "cell_type": "markdown",
   "metadata": {},
   "source": [
    "## R Programming A-Z™: R For Data Science\n",
    "\n",
    "© Kirill Eremenko, SuperDataScience Team:\n",
    "[Super Data Science](http://www.superdatascience.com)\n",
    "\n",
    "Section 3: Fundamentals of R\n",
    "\n",
    "Created on Apr  26, 2019\n",
    "@author: yinka_ola\n",
    "\n",
    "---"
   ]
  },
  {
   "cell_type": "code",
   "execution_count": 1,
   "metadata": {},
   "outputs": [],
   "source": [
    "###************\n",
    "## What is a vector? ##\n",
    "\n",
    "#a vector is a sequence of data element. Think of books in bookshelf\n",
    "#numeric vector (anything with numbers)\n",
    "#vector: from linear algebra; have a beginning and end\n",
    "#character vector: with character elements (Z, f, 7)\n",
    "#a vector can only have element of same type, R will automatically make the change\n",
    "#a single number is stored as a vector of length 1\n",
    "#everything in R is always stored as a vector by default"
   ]
  },
  {
   "cell_type": "code",
   "execution_count": 3,
   "metadata": {},
   "outputs": [
    {
     "data": {
      "text/html": [
       "<ol class=list-inline>\n",
       "\t<li>3</li>\n",
       "\t<li>45</li>\n",
       "\t<li>56</li>\n",
       "\t<li>732</li>\n",
       "</ol>\n"
      ],
      "text/latex": [
       "\\begin{enumerate*}\n",
       "\\item 3\n",
       "\\item 45\n",
       "\\item 56\n",
       "\\item 732\n",
       "\\end{enumerate*}\n"
      ],
      "text/markdown": [
       "1. 3\n",
       "2. 45\n",
       "3. 56\n",
       "4. 732\n",
       "\n",
       "\n"
      ],
      "text/plain": [
       "[1]   3  45  56 732"
      ]
     },
     "metadata": {},
     "output_type": "display_data"
    }
   ],
   "source": [
    "## Create a vector? ##\n",
    "MyFirstVector <- c(3, 45, 56, 732)\n",
    "MyFirstVector"
   ]
  },
  {
   "cell_type": "code",
   "execution_count": 4,
   "metadata": {},
   "outputs": [
    {
     "data": {
      "text/html": [
       "TRUE"
      ],
      "text/latex": [
       "TRUE"
      ],
      "text/markdown": [
       "TRUE"
      ],
      "text/plain": [
       "[1] TRUE"
      ]
     },
     "metadata": {},
     "output_type": "display_data"
    },
    {
     "data": {
      "text/html": [
       "FALSE"
      ],
      "text/latex": [
       "FALSE"
      ],
      "text/markdown": [
       "FALSE"
      ],
      "text/plain": [
       "[1] FALSE"
      ]
     },
     "metadata": {},
     "output_type": "display_data"
    }
   ],
   "source": [
    "#check if object is numeric/integer\n",
    "is.numeric(MyFirstVector)\n",
    "is.integer(MyFirstVector)"
   ]
  },
  {
   "cell_type": "code",
   "execution_count": 5,
   "metadata": {},
   "outputs": [
    {
     "data": {
      "text/html": [
       "TRUE"
      ],
      "text/latex": [
       "TRUE"
      ],
      "text/markdown": [
       "TRUE"
      ],
      "text/plain": [
       "[1] TRUE"
      ]
     },
     "metadata": {},
     "output_type": "display_data"
    }
   ],
   "source": [
    "#note: R defaultly stores numbers/integers as double\n",
    "is.double(MyFirstVector)"
   ]
  },
  {
   "cell_type": "code",
   "execution_count": 6,
   "metadata": {},
   "outputs": [
    {
     "data": {
      "text/html": [
       "TRUE"
      ],
      "text/latex": [
       "TRUE"
      ],
      "text/markdown": [
       "TRUE"
      ],
      "text/plain": [
       "[1] TRUE"
      ]
     },
     "metadata": {},
     "output_type": "display_data"
    },
    {
     "data": {
      "text/html": [
       "TRUE"
      ],
      "text/latex": [
       "TRUE"
      ],
      "text/markdown": [
       "TRUE"
      ],
      "text/plain": [
       "[1] TRUE"
      ]
     },
     "metadata": {},
     "output_type": "display_data"
    },
    {
     "data": {
      "text/html": [
       "FALSE"
      ],
      "text/latex": [
       "FALSE"
      ],
      "text/markdown": [
       "FALSE"
      ],
      "text/plain": [
       "[1] FALSE"
      ]
     },
     "metadata": {},
     "output_type": "display_data"
    }
   ],
   "source": [
    "#to store integer as integer, add the letter L\n",
    "V2 <-c(3L, 12L, 243L, 0L)\n",
    "is.numeric(V2)\n",
    "is.integer(V2)\n",
    "is.double(V2)"
   ]
  },
  {
   "cell_type": "code",
   "execution_count": 7,
   "metadata": {},
   "outputs": [
    {
     "data": {
      "text/html": [
       "<ol class=list-inline>\n",
       "\t<li>'a'</li>\n",
       "\t<li>'b'</li>\n",
       "\t<li>'Hello'</li>\n",
       "</ol>\n"
      ],
      "text/latex": [
       "\\begin{enumerate*}\n",
       "\\item 'a'\n",
       "\\item 'b'\n",
       "\\item 'Hello'\n",
       "\\end{enumerate*}\n"
      ],
      "text/markdown": [
       "1. 'a'\n",
       "2. 'b'\n",
       "3. 'Hello'\n",
       "\n",
       "\n"
      ],
      "text/plain": [
       "[1] \"a\"     \"b\"     \"Hello\""
      ]
     },
     "metadata": {},
     "output_type": "display_data"
    },
    {
     "data": {
      "text/html": [
       "TRUE"
      ],
      "text/latex": [
       "TRUE"
      ],
      "text/markdown": [
       "TRUE"
      ],
      "text/plain": [
       "[1] TRUE"
      ]
     },
     "metadata": {},
     "output_type": "display_data"
    },
    {
     "data": {
      "text/html": [
       "FALSE"
      ],
      "text/latex": [
       "FALSE"
      ],
      "text/markdown": [
       "FALSE"
      ],
      "text/plain": [
       "[1] FALSE"
      ]
     },
     "metadata": {},
     "output_type": "display_data"
    }
   ],
   "source": [
    "V3 <- c(\"a\", \"b\", \"Hello\")\n",
    "V3\n",
    "is.character(V3)\n",
    "is.numeric(V3)"
   ]
  },
  {
   "cell_type": "code",
   "execution_count": 8,
   "metadata": {},
   "outputs": [
    {
     "data": {
      "text/html": [
       "<ol class=list-inline>\n",
       "\t<li>'a'</li>\n",
       "\t<li>'B23'</li>\n",
       "\t<li>'Hello'</li>\n",
       "\t<li>'7'</li>\n",
       "</ol>\n"
      ],
      "text/latex": [
       "\\begin{enumerate*}\n",
       "\\item 'a'\n",
       "\\item 'B23'\n",
       "\\item 'Hello'\n",
       "\\item '7'\n",
       "\\end{enumerate*}\n"
      ],
      "text/markdown": [
       "1. 'a'\n",
       "2. 'B23'\n",
       "3. 'Hello'\n",
       "4. '7'\n",
       "\n",
       "\n"
      ],
      "text/plain": [
       "[1] \"a\"     \"B23\"   \"Hello\" \"7\"    "
      ]
     },
     "metadata": {},
     "output_type": "display_data"
    },
    {
     "data": {
      "text/html": [
       "TRUE"
      ],
      "text/latex": [
       "TRUE"
      ],
      "text/markdown": [
       "TRUE"
      ],
      "text/plain": [
       "[1] TRUE"
      ]
     },
     "metadata": {},
     "output_type": "display_data"
    },
    {
     "data": {
      "text/html": [
       "FALSE"
      ],
      "text/latex": [
       "FALSE"
      ],
      "text/markdown": [
       "FALSE"
      ],
      "text/plain": [
       "[1] FALSE"
      ]
     },
     "metadata": {},
     "output_type": "display_data"
    }
   ],
   "source": [
    "#now test if a vector can only have element of same type, no mixing of type\n",
    "# you can convert a number to a character but not vice versa\n",
    "\n",
    "V3a <- c(\"a\", \"B23\", \"Hello\", 7)\n",
    "V3a\n",
    "is.character(V3a)\n",
    "is.numeric(V3a)"
   ]
  },
  {
   "cell_type": "code",
   "execution_count": 9,
   "metadata": {},
   "outputs": [
    {
     "data": {
      "text/html": [
       "1"
      ],
      "text/latex": [
       "1"
      ],
      "text/markdown": [
       "1"
      ],
      "text/plain": [
       "[1] 1"
      ]
     },
     "metadata": {},
     "output_type": "display_data"
    },
    {
     "data": {
      "text/plain": [
       "NULL"
      ]
     },
     "metadata": {},
     "output_type": "display_data"
    }
   ],
   "source": [
    "#here, R has converted the 7 to a character\n",
    "\n",
    "#Sequence\n",
    "seq() #sequence - like ':'\n",
    "rep() #replicate\n"
   ]
  },
  {
   "cell_type": "code",
   "execution_count": 11,
   "metadata": {},
   "outputs": [
    {
     "data": {
      "text/html": [
       "<ol class=list-inline>\n",
       "\t<li>1</li>\n",
       "\t<li>2</li>\n",
       "\t<li>3</li>\n",
       "\t<li>4</li>\n",
       "\t<li>5</li>\n",
       "\t<li>6</li>\n",
       "\t<li>7</li>\n",
       "\t<li>8</li>\n",
       "\t<li>9</li>\n",
       "\t<li>10</li>\n",
       "\t<li>11</li>\n",
       "\t<li>12</li>\n",
       "\t<li>13</li>\n",
       "\t<li>14</li>\n",
       "\t<li>15</li>\n",
       "</ol>\n"
      ],
      "text/latex": [
       "\\begin{enumerate*}\n",
       "\\item 1\n",
       "\\item 2\n",
       "\\item 3\n",
       "\\item 4\n",
       "\\item 5\n",
       "\\item 6\n",
       "\\item 7\n",
       "\\item 8\n",
       "\\item 9\n",
       "\\item 10\n",
       "\\item 11\n",
       "\\item 12\n",
       "\\item 13\n",
       "\\item 14\n",
       "\\item 15\n",
       "\\end{enumerate*}\n"
      ],
      "text/markdown": [
       "1. 1\n",
       "2. 2\n",
       "3. 3\n",
       "4. 4\n",
       "5. 5\n",
       "6. 6\n",
       "7. 7\n",
       "8. 8\n",
       "9. 9\n",
       "10. 10\n",
       "11. 11\n",
       "12. 12\n",
       "13. 13\n",
       "14. 14\n",
       "15. 15\n",
       "\n",
       "\n"
      ],
      "text/plain": [
       " [1]  1  2  3  4  5  6  7  8  9 10 11 12 13 14 15"
      ]
     },
     "metadata": {},
     "output_type": "display_data"
    }
   ],
   "source": [
    "seq(1,15) # do not use ':' here"
   ]
  },
  {
   "cell_type": "code",
   "execution_count": 12,
   "metadata": {},
   "outputs": [
    {
     "data": {
      "text/html": [
       "<ol class=list-inline>\n",
       "\t<li>1</li>\n",
       "\t<li>2</li>\n",
       "\t<li>3</li>\n",
       "\t<li>4</li>\n",
       "\t<li>5</li>\n",
       "\t<li>6</li>\n",
       "\t<li>7</li>\n",
       "\t<li>8</li>\n",
       "\t<li>9</li>\n",
       "\t<li>10</li>\n",
       "\t<li>11</li>\n",
       "\t<li>12</li>\n",
       "\t<li>13</li>\n",
       "\t<li>14</li>\n",
       "\t<li>15</li>\n",
       "</ol>\n"
      ],
      "text/latex": [
       "\\begin{enumerate*}\n",
       "\\item 1\n",
       "\\item 2\n",
       "\\item 3\n",
       "\\item 4\n",
       "\\item 5\n",
       "\\item 6\n",
       "\\item 7\n",
       "\\item 8\n",
       "\\item 9\n",
       "\\item 10\n",
       "\\item 11\n",
       "\\item 12\n",
       "\\item 13\n",
       "\\item 14\n",
       "\\item 15\n",
       "\\end{enumerate*}\n"
      ],
      "text/markdown": [
       "1. 1\n",
       "2. 2\n",
       "3. 3\n",
       "4. 4\n",
       "5. 5\n",
       "6. 6\n",
       "7. 7\n",
       "8. 8\n",
       "9. 9\n",
       "10. 10\n",
       "11. 11\n",
       "12. 12\n",
       "13. 13\n",
       "14. 14\n",
       "15. 15\n",
       "\n",
       "\n"
      ],
      "text/plain": [
       " [1]  1  2  3  4  5  6  7  8  9 10 11 12 13 14 15"
      ]
     },
     "metadata": {},
     "output_type": "display_data"
    }
   ],
   "source": [
    "1:15"
   ]
  },
  {
   "cell_type": "code",
   "execution_count": 13,
   "metadata": {},
   "outputs": [
    {
     "data": {
      "text/html": [
       "<ol class=list-inline>\n",
       "\t<li>1</li>\n",
       "\t<li>3</li>\n",
       "\t<li>5</li>\n",
       "\t<li>7</li>\n",
       "\t<li>9</li>\n",
       "\t<li>11</li>\n",
       "\t<li>13</li>\n",
       "\t<li>15</li>\n",
       "</ol>\n"
      ],
      "text/latex": [
       "\\begin{enumerate*}\n",
       "\\item 1\n",
       "\\item 3\n",
       "\\item 5\n",
       "\\item 7\n",
       "\\item 9\n",
       "\\item 11\n",
       "\\item 13\n",
       "\\item 15\n",
       "\\end{enumerate*}\n"
      ],
      "text/markdown": [
       "1. 1\n",
       "2. 3\n",
       "3. 5\n",
       "4. 7\n",
       "5. 9\n",
       "6. 11\n",
       "7. 13\n",
       "8. 15\n",
       "\n",
       "\n"
      ],
      "text/plain": [
       "[1]  1  3  5  7  9 11 13 15"
      ]
     },
     "metadata": {},
     "output_type": "display_data"
    }
   ],
   "source": [
    "#sequence can give you more option/flexibility to add more parameters\n",
    "seq(1,15,2) #generate every other number\n"
   ]
  },
  {
   "cell_type": "code",
   "execution_count": 14,
   "metadata": {},
   "outputs": [
    {
     "data": {
      "text/html": [
       "<ol class=list-inline>\n",
       "\t<li>1</li>\n",
       "\t<li>5</li>\n",
       "\t<li>9</li>\n",
       "\t<li>13</li>\n",
       "</ol>\n"
      ],
      "text/latex": [
       "\\begin{enumerate*}\n",
       "\\item 1\n",
       "\\item 5\n",
       "\\item 9\n",
       "\\item 13\n",
       "\\end{enumerate*}\n"
      ],
      "text/markdown": [
       "1. 1\n",
       "2. 5\n",
       "3. 9\n",
       "4. 13\n",
       "\n",
       "\n"
      ],
      "text/plain": [
       "[1]  1  5  9 13"
      ]
     },
     "metadata": {},
     "output_type": "display_data"
    }
   ],
   "source": [
    "z <- seq(1, 15, 4) #generate every 4th number\n",
    "z"
   ]
  },
  {
   "cell_type": "code",
   "execution_count": 15,
   "metadata": {},
   "outputs": [
    {
     "data": {
      "text/html": [
       "<ol class=list-inline>\n",
       "\t<li>3</li>\n",
       "\t<li>3</li>\n",
       "\t<li>3</li>\n",
       "\t<li>3</li>\n",
       "\t<li>3</li>\n",
       "\t<li>3</li>\n",
       "\t<li>3</li>\n",
       "\t<li>3</li>\n",
       "\t<li>3</li>\n",
       "\t<li>3</li>\n",
       "\t<li>3</li>\n",
       "\t<li>3</li>\n",
       "\t<li>3</li>\n",
       "\t<li>3</li>\n",
       "\t<li>3</li>\n",
       "\t<li>3</li>\n",
       "\t<li>3</li>\n",
       "\t<li>3</li>\n",
       "\t<li>3</li>\n",
       "\t<li>3</li>\n",
       "\t<li>3</li>\n",
       "\t<li>3</li>\n",
       "\t<li>3</li>\n",
       "\t<li>3</li>\n",
       "\t<li>3</li>\n",
       "\t<li>3</li>\n",
       "\t<li>3</li>\n",
       "\t<li>3</li>\n",
       "\t<li>3</li>\n",
       "\t<li>3</li>\n",
       "\t<li>3</li>\n",
       "\t<li>3</li>\n",
       "\t<li>3</li>\n",
       "\t<li>3</li>\n",
       "\t<li>3</li>\n",
       "\t<li>3</li>\n",
       "\t<li>3</li>\n",
       "\t<li>3</li>\n",
       "\t<li>3</li>\n",
       "\t<li>3</li>\n",
       "\t<li>3</li>\n",
       "\t<li>3</li>\n",
       "\t<li>3</li>\n",
       "\t<li>3</li>\n",
       "\t<li>3</li>\n",
       "\t<li>3</li>\n",
       "\t<li>3</li>\n",
       "\t<li>3</li>\n",
       "\t<li>3</li>\n",
       "\t<li>3</li>\n",
       "</ol>\n"
      ],
      "text/latex": [
       "\\begin{enumerate*}\n",
       "\\item 3\n",
       "\\item 3\n",
       "\\item 3\n",
       "\\item 3\n",
       "\\item 3\n",
       "\\item 3\n",
       "\\item 3\n",
       "\\item 3\n",
       "\\item 3\n",
       "\\item 3\n",
       "\\item 3\n",
       "\\item 3\n",
       "\\item 3\n",
       "\\item 3\n",
       "\\item 3\n",
       "\\item 3\n",
       "\\item 3\n",
       "\\item 3\n",
       "\\item 3\n",
       "\\item 3\n",
       "\\item 3\n",
       "\\item 3\n",
       "\\item 3\n",
       "\\item 3\n",
       "\\item 3\n",
       "\\item 3\n",
       "\\item 3\n",
       "\\item 3\n",
       "\\item 3\n",
       "\\item 3\n",
       "\\item 3\n",
       "\\item 3\n",
       "\\item 3\n",
       "\\item 3\n",
       "\\item 3\n",
       "\\item 3\n",
       "\\item 3\n",
       "\\item 3\n",
       "\\item 3\n",
       "\\item 3\n",
       "\\item 3\n",
       "\\item 3\n",
       "\\item 3\n",
       "\\item 3\n",
       "\\item 3\n",
       "\\item 3\n",
       "\\item 3\n",
       "\\item 3\n",
       "\\item 3\n",
       "\\item 3\n",
       "\\end{enumerate*}\n"
      ],
      "text/markdown": [
       "1. 3\n",
       "2. 3\n",
       "3. 3\n",
       "4. 3\n",
       "5. 3\n",
       "6. 3\n",
       "7. 3\n",
       "8. 3\n",
       "9. 3\n",
       "10. 3\n",
       "11. 3\n",
       "12. 3\n",
       "13. 3\n",
       "14. 3\n",
       "15. 3\n",
       "16. 3\n",
       "17. 3\n",
       "18. 3\n",
       "19. 3\n",
       "20. 3\n",
       "21. 3\n",
       "22. 3\n",
       "23. 3\n",
       "24. 3\n",
       "25. 3\n",
       "26. 3\n",
       "27. 3\n",
       "28. 3\n",
       "29. 3\n",
       "30. 3\n",
       "31. 3\n",
       "32. 3\n",
       "33. 3\n",
       "34. 3\n",
       "35. 3\n",
       "36. 3\n",
       "37. 3\n",
       "38. 3\n",
       "39. 3\n",
       "40. 3\n",
       "41. 3\n",
       "42. 3\n",
       "43. 3\n",
       "44. 3\n",
       "45. 3\n",
       "46. 3\n",
       "47. 3\n",
       "48. 3\n",
       "49. 3\n",
       "50. 3\n",
       "\n",
       "\n"
      ],
      "text/plain": [
       " [1] 3 3 3 3 3 3 3 3 3 3 3 3 3 3 3 3 3 3 3 3 3 3 3 3 3 3 3 3 3 3 3 3 3 3 3 3 3 3\n",
       "[39] 3 3 3 3 3 3 3 3 3 3 3 3"
      ]
     },
     "metadata": {},
     "output_type": "display_data"
    }
   ],
   "source": [
    "#replicate\n",
    "rep(3, 50) # replicate 3, 50times\n",
    "d <-rep(3, 50)"
   ]
  },
  {
   "cell_type": "code",
   "execution_count": 16,
   "metadata": {},
   "outputs": [
    {
     "data": {
      "text/html": [
       "<ol class=list-inline>\n",
       "\t<li>'a'</li>\n",
       "\t<li>'a'</li>\n",
       "\t<li>'a'</li>\n",
       "\t<li>'a'</li>\n",
       "\t<li>'a'</li>\n",
       "</ol>\n"
      ],
      "text/latex": [
       "\\begin{enumerate*}\n",
       "\\item 'a'\n",
       "\\item 'a'\n",
       "\\item 'a'\n",
       "\\item 'a'\n",
       "\\item 'a'\n",
       "\\end{enumerate*}\n"
      ],
      "text/markdown": [
       "1. 'a'\n",
       "2. 'a'\n",
       "3. 'a'\n",
       "4. 'a'\n",
       "5. 'a'\n",
       "\n",
       "\n"
      ],
      "text/plain": [
       "[1] \"a\" \"a\" \"a\" \"a\" \"a\""
      ]
     },
     "metadata": {},
     "output_type": "display_data"
    }
   ],
   "source": [
    "#you can also replicate a character\n",
    "rep(\"a\", 5)"
   ]
  },
  {
   "cell_type": "code",
   "execution_count": 19,
   "metadata": {},
   "outputs": [
    {
     "data": {
      "text/html": [
       "<ol class=list-inline>\n",
       "\t<li>80</li>\n",
       "\t<li>20</li>\n",
       "</ol>\n"
      ],
      "text/latex": [
       "\\begin{enumerate*}\n",
       "\\item 80\n",
       "\\item 20\n",
       "\\end{enumerate*}\n"
      ],
      "text/markdown": [
       "1. 80\n",
       "2. 20\n",
       "\n",
       "\n"
      ],
      "text/plain": [
       "[1] 80 20"
      ]
     },
     "metadata": {},
     "output_type": "display_data"
    }
   ],
   "source": [
    "x <- c(80, 20)\n",
    "x"
   ]
  },
  {
   "cell_type": "code",
   "execution_count": 20,
   "metadata": {},
   "outputs": [
    {
     "data": {
      "text/html": [
       "<ol class=list-inline>\n",
       "\t<li>80</li>\n",
       "\t<li>20</li>\n",
       "\t<li>80</li>\n",
       "\t<li>20</li>\n",
       "\t<li>80</li>\n",
       "\t<li>20</li>\n",
       "\t<li>80</li>\n",
       "\t<li>20</li>\n",
       "\t<li>80</li>\n",
       "\t<li>20</li>\n",
       "\t<li>80</li>\n",
       "\t<li>20</li>\n",
       "\t<li>80</li>\n",
       "\t<li>20</li>\n",
       "\t<li>80</li>\n",
       "\t<li>20</li>\n",
       "\t<li>80</li>\n",
       "\t<li>20</li>\n",
       "\t<li>80</li>\n",
       "\t<li>20</li>\n",
       "</ol>\n"
      ],
      "text/latex": [
       "\\begin{enumerate*}\n",
       "\\item 80\n",
       "\\item 20\n",
       "\\item 80\n",
       "\\item 20\n",
       "\\item 80\n",
       "\\item 20\n",
       "\\item 80\n",
       "\\item 20\n",
       "\\item 80\n",
       "\\item 20\n",
       "\\item 80\n",
       "\\item 20\n",
       "\\item 80\n",
       "\\item 20\n",
       "\\item 80\n",
       "\\item 20\n",
       "\\item 80\n",
       "\\item 20\n",
       "\\item 80\n",
       "\\item 20\n",
       "\\end{enumerate*}\n"
      ],
      "text/markdown": [
       "1. 80\n",
       "2. 20\n",
       "3. 80\n",
       "4. 20\n",
       "5. 80\n",
       "6. 20\n",
       "7. 80\n",
       "8. 20\n",
       "9. 80\n",
       "10. 20\n",
       "11. 80\n",
       "12. 20\n",
       "13. 80\n",
       "14. 20\n",
       "15. 80\n",
       "16. 20\n",
       "17. 80\n",
       "18. 20\n",
       "19. 80\n",
       "20. 20\n",
       "\n",
       "\n"
      ],
      "text/plain": [
       " [1] 80 20 80 20 80 20 80 20 80 20 80 20 80 20 80 20 80 20 80 20"
      ]
     },
     "metadata": {},
     "output_type": "display_data"
    }
   ],
   "source": [
    "y <- rep (x, 10)\n",
    "y"
   ]
  },
  {
   "cell_type": "code",
   "execution_count": 25,
   "metadata": {},
   "outputs": [
    {
     "data": {
      "text/html": [
       "<ol class=list-inline>\n",
       "\t<li>1</li>\n",
       "\t<li>123</li>\n",
       "\t<li>534</li>\n",
       "\t<li>13</li>\n",
       "\t<li>4</li>\n",
       "</ol>\n"
      ],
      "text/latex": [
       "\\begin{enumerate*}\n",
       "\\item 1\n",
       "\\item 123\n",
       "\\item 534\n",
       "\\item 13\n",
       "\\item 4\n",
       "\\end{enumerate*}\n"
      ],
      "text/markdown": [
       "1. 1\n",
       "2. 123\n",
       "3. 534\n",
       "4. 13\n",
       "5. 4\n",
       "\n",
       "\n"
      ],
      "text/plain": [
       "[1]   1 123 534  13   4"
      ]
     },
     "metadata": {},
     "output_type": "display_data"
    },
    {
     "data": {
      "text/html": [
       "<ol class=list-inline>\n",
       "\t<li>201</li>\n",
       "\t<li>212</li>\n",
       "\t<li>223</li>\n",
       "\t<li>234</li>\n",
       "\t<li>245</li>\n",
       "</ol>\n"
      ],
      "text/latex": [
       "\\begin{enumerate*}\n",
       "\\item 201\n",
       "\\item 212\n",
       "\\item 223\n",
       "\\item 234\n",
       "\\item 245\n",
       "\\end{enumerate*}\n"
      ],
      "text/markdown": [
       "1. 201\n",
       "2. 212\n",
       "3. 223\n",
       "4. 234\n",
       "5. 245\n",
       "\n",
       "\n"
      ],
      "text/plain": [
       "[1] 201 212 223 234 245"
      ]
     },
     "metadata": {},
     "output_type": "display_data"
    },
    {
     "data": {
      "text/html": [
       "<ol class=list-inline>\n",
       "\t<li>'Hi'</li>\n",
       "\t<li>'Hi'</li>\n",
       "\t<li>'Hi'</li>\n",
       "</ol>\n"
      ],
      "text/latex": [
       "\\begin{enumerate*}\n",
       "\\item 'Hi'\n",
       "\\item 'Hi'\n",
       "\\item 'Hi'\n",
       "\\end{enumerate*}\n"
      ],
      "text/markdown": [
       "1. 'Hi'\n",
       "2. 'Hi'\n",
       "3. 'Hi'\n",
       "\n",
       "\n"
      ],
      "text/plain": [
       "[1] \"Hi\" \"Hi\" \"Hi\""
      ]
     },
     "metadata": {},
     "output_type": "display_data"
    },
    {
     "data": {
      "text/html": [
       "<ol class=list-inline>\n",
       "\t<li>'a'</li>\n",
       "\t<li>'b'</li>\n",
       "\t<li>'c'</li>\n",
       "\t<li>'d'</li>\n",
       "\t<li>'e'</li>\n",
       "</ol>\n"
      ],
      "text/latex": [
       "\\begin{enumerate*}\n",
       "\\item 'a'\n",
       "\\item 'b'\n",
       "\\item 'c'\n",
       "\\item 'd'\n",
       "\\item 'e'\n",
       "\\end{enumerate*}\n"
      ],
      "text/markdown": [
       "1. 'a'\n",
       "2. 'b'\n",
       "3. 'c'\n",
       "4. 'd'\n",
       "5. 'e'\n",
       "\n",
       "\n"
      ],
      "text/plain": [
       "[1] \"a\" \"b\" \"c\" \"d\" \"e\""
      ]
     },
     "metadata": {},
     "output_type": "display_data"
    }
   ],
   "source": [
    "###************\n",
    "## Using Brackets [] ##to idenify the index/location of a unit in a vector\n",
    "x <- c( 1,123, 534, 13, 4)#combine\n",
    "x\n",
    "y <- seq(201, 250, 11) #sequence\n",
    "y\n",
    "z <- rep( \"Hi\", 3) #replicate\n",
    "z\n",
    "w <- c(\"a\", \"b\", \"c\", \"d\", \"e\")\n",
    "w"
   ]
  },
  {
   "cell_type": "code",
   "execution_count": 26,
   "metadata": {},
   "outputs": [
    {
     "data": {
      "text/html": [
       "'a'"
      ],
      "text/latex": [
       "'a'"
      ],
      "text/markdown": [
       "'a'"
      ],
      "text/plain": [
       "[1] \"a\""
      ]
     },
     "metadata": {},
     "output_type": "display_data"
    },
    {
     "data": {
      "text/html": [
       "'b'"
      ],
      "text/latex": [
       "'b'"
      ],
      "text/markdown": [
       "'b'"
      ],
      "text/plain": [
       "[1] \"b\""
      ]
     },
     "metadata": {},
     "output_type": "display_data"
    },
    {
     "data": {
      "text/html": [
       "'c'"
      ],
      "text/latex": [
       "'c'"
      ],
      "text/markdown": [
       "'c'"
      ],
      "text/plain": [
       "[1] \"c\""
      ]
     },
     "metadata": {},
     "output_type": "display_data"
    }
   ],
   "source": [
    "w[1] # the 1st letter\n",
    "w[2] # the 2nd letter\n",
    "w[3] # the 3rd letter"
   ]
  },
  {
   "cell_type": "code",
   "execution_count": 27,
   "metadata": {},
   "outputs": [
    {
     "data": {
      "text/html": [
       "<ol class=list-inline>\n",
       "\t<li>'a'</li>\n",
       "\t<li>'b'</li>\n",
       "\t<li>'c'</li>\n",
       "</ol>\n"
      ],
      "text/latex": [
       "\\begin{enumerate*}\n",
       "\\item 'a'\n",
       "\\item 'b'\n",
       "\\item 'c'\n",
       "\\end{enumerate*}\n"
      ],
      "text/markdown": [
       "1. 'a'\n",
       "2. 'b'\n",
       "3. 'c'\n",
       "\n",
       "\n"
      ],
      "text/plain": [
       "[1] \"a\" \"b\" \"c\""
      ]
     },
     "metadata": {},
     "output_type": "display_data"
    },
    {
     "data": {
      "text/html": [
       "<ol class=list-inline>\n",
       "\t<li>'c'</li>\n",
       "\t<li>'d'</li>\n",
       "\t<li>'e'</li>\n",
       "</ol>\n"
      ],
      "text/latex": [
       "\\begin{enumerate*}\n",
       "\\item 'c'\n",
       "\\item 'd'\n",
       "\\item 'e'\n",
       "\\end{enumerate*}\n"
      ],
      "text/markdown": [
       "1. 'c'\n",
       "2. 'd'\n",
       "3. 'e'\n",
       "\n",
       "\n"
      ],
      "text/plain": [
       "[1] \"c\" \"d\" \"e\""
      ]
     },
     "metadata": {},
     "output_type": "display_data"
    },
    {
     "data": {
      "text/html": [
       "<ol class=list-inline>\n",
       "\t<li>'a'</li>\n",
       "\t<li>'c'</li>\n",
       "\t<li>'e'</li>\n",
       "</ol>\n"
      ],
      "text/latex": [
       "\\begin{enumerate*}\n",
       "\\item 'a'\n",
       "\\item 'c'\n",
       "\\item 'e'\n",
       "\\end{enumerate*}\n"
      ],
      "text/markdown": [
       "1. 'a'\n",
       "2. 'c'\n",
       "3. 'e'\n",
       "\n",
       "\n"
      ],
      "text/plain": [
       "[1] \"a\" \"c\" \"e\""
      ]
     },
     "metadata": {},
     "output_type": "display_data"
    },
    {
     "data": {
      "text/html": [
       "<ol class=list-inline>\n",
       "\t<li>'a'</li>\n",
       "\t<li>'c'</li>\n",
       "\t<li>'e'</li>\n",
       "</ol>\n"
      ],
      "text/latex": [
       "\\begin{enumerate*}\n",
       "\\item 'a'\n",
       "\\item 'c'\n",
       "\\item 'e'\n",
       "\\end{enumerate*}\n"
      ],
      "text/markdown": [
       "1. 'a'\n",
       "2. 'c'\n",
       "3. 'e'\n",
       "\n",
       "\n"
      ],
      "text/plain": [
       "[1] \"a\" \"c\" \"e\""
      ]
     },
     "metadata": {},
     "output_type": "display_data"
    }
   ],
   "source": [
    "v <- w[-3] # all elements but the 3rd\n",
    "w[1:3] #the first 3 element\n",
    "w[3:5] #the 3rd to 5th element\n",
    "w[c(1,3,5)] #the 3rd to 5th element\n",
    "w[c(-2,-4)] #all element but the 2nd and 4th"
   ]
  },
  {
   "cell_type": "code",
   "execution_count": 28,
   "metadata": {},
   "outputs": [],
   "source": [
    "## Summary:\n",
    "#there are different ways to get same results in R\n",
    "\n",
    "#you won't need to access individual elements in R often. \n",
    "#No need for square bracket as R is a vector driven language\n",
    "\n",
    "#note: be very exploratory and experiment with R\n",
    "#you need to keep practicing and testing the limits of R and ask question\n",
    "\n",
    "#lygometery: quantifying/measuring what you don't know"
   ]
  },
  {
   "cell_type": "markdown",
   "metadata": {},
   "source": [
    "---"
   ]
  },
  {
   "cell_type": "code",
   "execution_count": 29,
   "metadata": {},
   "outputs": [],
   "source": [
    "###************\n",
    "## Vectorized operations ##\n",
    "\n",
    "#consider summations of elements from 2 vectors\n",
    "#no need to create loops for arithmetic operations as everything happens in vector\n",
    "#operations are completed element by element\n",
    "\n",
    "#consider adding a smaller vector to a larger vector\n",
    "#R will recycle the vectors"
   ]
  },
  {
   "cell_type": "code",
   "execution_count": 30,
   "metadata": {},
   "outputs": [
    {
     "data": {
      "text/html": [
       "<ol class=list-inline>\n",
       "\t<li>1</li>\n",
       "\t<li>123</li>\n",
       "\t<li>534</li>\n",
       "\t<li>13</li>\n",
       "\t<li>4</li>\n",
       "</ol>\n"
      ],
      "text/latex": [
       "\\begin{enumerate*}\n",
       "\\item 1\n",
       "\\item 123\n",
       "\\item 534\n",
       "\\item 13\n",
       "\\item 4\n",
       "\\end{enumerate*}\n"
      ],
      "text/markdown": [
       "1. 1\n",
       "2. 123\n",
       "3. 534\n",
       "4. 13\n",
       "5. 4\n",
       "\n",
       "\n"
      ],
      "text/plain": [
       "[1]   1 123 534  13   4"
      ]
     },
     "metadata": {},
     "output_type": "display_data"
    },
    {
     "data": {
      "text/html": [
       "<ol class=list-inline>\n",
       "\t<li>1</li>\n",
       "\t<li>123</li>\n",
       "\t<li>534</li>\n",
       "\t<li>13</li>\n",
       "\t<li>5</li>\n",
       "</ol>\n"
      ],
      "text/latex": [
       "\\begin{enumerate*}\n",
       "\\item 1\n",
       "\\item 123\n",
       "\\item 534\n",
       "\\item 13\n",
       "\\item 5\n",
       "\\end{enumerate*}\n"
      ],
      "text/markdown": [
       "1. 1\n",
       "2. 123\n",
       "3. 534\n",
       "4. 13\n",
       "5. 5\n",
       "\n",
       "\n"
      ],
      "text/plain": [
       "[1]   1 123 534  13   5"
      ]
     },
     "metadata": {},
     "output_type": "display_data"
    },
    {
     "data": {
      "text/html": [
       "<ol class=list-inline>\n",
       "\t<li>1</li>\n",
       "\t<li>123</li>\n",
       "\t<li>13</li>\n",
       "\t<li>4</li>\n",
       "</ol>\n"
      ],
      "text/latex": [
       "\\begin{enumerate*}\n",
       "\\item 1\n",
       "\\item 123\n",
       "\\item 13\n",
       "\\item 4\n",
       "\\end{enumerate*}\n"
      ],
      "text/markdown": [
       "1. 1\n",
       "2. 123\n",
       "3. 13\n",
       "4. 4\n",
       "\n",
       "\n"
      ],
      "text/plain": [
       "[1]   1 123  13   4"
      ]
     },
     "metadata": {},
     "output_type": "display_data"
    }
   ],
   "source": [
    "x <- c( 1,123, 534, 13, 4)\n",
    "x\n",
    "y <- c( 1,123, 534, 13, 5)\n",
    "y\n",
    "z <- c( 1,123,  13, 4)\n",
    "z"
   ]
  },
  {
   "cell_type": "code",
   "execution_count": 31,
   "metadata": {},
   "outputs": [
    {
     "data": {
      "text/html": [
       "<ol class=list-inline>\n",
       "\t<li>2</li>\n",
       "\t<li>246</li>\n",
       "\t<li>1068</li>\n",
       "\t<li>26</li>\n",
       "\t<li>9</li>\n",
       "</ol>\n"
      ],
      "text/latex": [
       "\\begin{enumerate*}\n",
       "\\item 2\n",
       "\\item 246\n",
       "\\item 1068\n",
       "\\item 26\n",
       "\\item 9\n",
       "\\end{enumerate*}\n"
      ],
      "text/markdown": [
       "1. 2\n",
       "2. 246\n",
       "3. 1068\n",
       "4. 26\n",
       "5. 9\n",
       "\n",
       "\n"
      ],
      "text/plain": [
       "[1]    2  246 1068   26    9"
      ]
     },
     "metadata": {},
     "output_type": "display_data"
    },
    {
     "data": {
      "text/html": [
       "<ol class=list-inline>\n",
       "\t<li>0</li>\n",
       "\t<li>0</li>\n",
       "\t<li>0</li>\n",
       "\t<li>0</li>\n",
       "\t<li>-1</li>\n",
       "</ol>\n"
      ],
      "text/latex": [
       "\\begin{enumerate*}\n",
       "\\item 0\n",
       "\\item 0\n",
       "\\item 0\n",
       "\\item 0\n",
       "\\item -1\n",
       "\\end{enumerate*}\n"
      ],
      "text/markdown": [
       "1. 0\n",
       "2. 0\n",
       "3. 0\n",
       "4. 0\n",
       "5. -1\n",
       "\n",
       "\n"
      ],
      "text/plain": [
       "[1]  0  0  0  0 -1"
      ]
     },
     "metadata": {},
     "output_type": "display_data"
    },
    {
     "data": {
      "text/html": [
       "<ol class=list-inline>\n",
       "\t<li>1</li>\n",
       "\t<li>1</li>\n",
       "\t<li>1</li>\n",
       "\t<li>1</li>\n",
       "\t<li>0.8</li>\n",
       "</ol>\n"
      ],
      "text/latex": [
       "\\begin{enumerate*}\n",
       "\\item 1\n",
       "\\item 1\n",
       "\\item 1\n",
       "\\item 1\n",
       "\\item 0.8\n",
       "\\end{enumerate*}\n"
      ],
      "text/markdown": [
       "1. 1\n",
       "2. 1\n",
       "3. 1\n",
       "4. 1\n",
       "5. 0.8\n",
       "\n",
       "\n"
      ],
      "text/plain": [
       "[1] 1.0 1.0 1.0 1.0 0.8"
      ]
     },
     "metadata": {},
     "output_type": "display_data"
    },
    {
     "name": "stderr",
     "output_type": "stream",
     "text": [
      "Warning message in z + y:\n",
      "“longer object length is not a multiple of shorter object length”"
     ]
    },
    {
     "data": {
      "text/html": [
       "<ol class=list-inline>\n",
       "\t<li>2</li>\n",
       "\t<li>246</li>\n",
       "\t<li>547</li>\n",
       "\t<li>17</li>\n",
       "\t<li>6</li>\n",
       "</ol>\n"
      ],
      "text/latex": [
       "\\begin{enumerate*}\n",
       "\\item 2\n",
       "\\item 246\n",
       "\\item 547\n",
       "\\item 17\n",
       "\\item 6\n",
       "\\end{enumerate*}\n"
      ],
      "text/markdown": [
       "1. 2\n",
       "2. 246\n",
       "3. 547\n",
       "4. 17\n",
       "5. 6\n",
       "\n",
       "\n"
      ],
      "text/plain": [
       "[1]   2 246 547  17   6"
      ]
     },
     "metadata": {},
     "output_type": "display_data"
    },
    {
     "name": "stderr",
     "output_type": "stream",
     "text": [
      "Warning message in y - z:\n",
      "“longer object length is not a multiple of shorter object length”"
     ]
    },
    {
     "data": {
      "text/html": [
       "<ol class=list-inline>\n",
       "\t<li>0</li>\n",
       "\t<li>0</li>\n",
       "\t<li>521</li>\n",
       "\t<li>9</li>\n",
       "\t<li>4</li>\n",
       "</ol>\n"
      ],
      "text/latex": [
       "\\begin{enumerate*}\n",
       "\\item 0\n",
       "\\item 0\n",
       "\\item 521\n",
       "\\item 9\n",
       "\\item 4\n",
       "\\end{enumerate*}\n"
      ],
      "text/markdown": [
       "1. 0\n",
       "2. 0\n",
       "3. 521\n",
       "4. 9\n",
       "5. 4\n",
       "\n",
       "\n"
      ],
      "text/plain": [
       "[1]   0   0 521   9   4"
      ]
     },
     "metadata": {},
     "output_type": "display_data"
    },
    {
     "name": "stderr",
     "output_type": "stream",
     "text": [
      "Warning message in y/z:\n",
      "“longer object length is not a multiple of shorter object length”"
     ]
    },
    {
     "data": {
      "text/html": [
       "<ol class=list-inline>\n",
       "\t<li>1</li>\n",
       "\t<li>1</li>\n",
       "\t<li>41.0769230769231</li>\n",
       "\t<li>3.25</li>\n",
       "\t<li>5</li>\n",
       "</ol>\n"
      ],
      "text/latex": [
       "\\begin{enumerate*}\n",
       "\\item 1\n",
       "\\item 1\n",
       "\\item 41.0769230769231\n",
       "\\item 3.25\n",
       "\\item 5\n",
       "\\end{enumerate*}\n"
      ],
      "text/markdown": [
       "1. 1\n",
       "2. 1\n",
       "3. 41.0769230769231\n",
       "4. 3.25\n",
       "5. 5\n",
       "\n",
       "\n"
      ],
      "text/plain": [
       "[1]  1.00000  1.00000 41.07692  3.25000  5.00000"
      ]
     },
     "metadata": {},
     "output_type": "display_data"
    }
   ],
   "source": [
    "a <- (x + y)\n",
    "a\n",
    "\n",
    "b <- (x - y)\n",
    "b\n",
    "\n",
    "c <- (x/y)\n",
    "c\n",
    "\n",
    "d <- (z + y) # it adds the elements but gives you a warning message\n",
    "d\n",
    "\n",
    "#In z + y : longer object length is not a multiple of shorter object length\n",
    "e <- (y -z)\n",
    "e\n",
    "\n",
    "f <- (y/z)\n",
    "f"
   ]
  },
  {
   "cell_type": "code",
   "execution_count": 32,
   "metadata": {},
   "outputs": [
    {
     "data": {
      "text/html": [
       "<ol class=list-inline>\n",
       "\t<li>-0.402317797106711</li>\n",
       "\t<li>0.747091711183504</li>\n",
       "\t<li>-0.801275439920734</li>\n",
       "\t<li>-1.41413154189497</li>\n",
       "\t<li>1.23076974846407</li>\n",
       "</ol>\n"
      ],
      "text/latex": [
       "\\begin{enumerate*}\n",
       "\\item -0.402317797106711\n",
       "\\item 0.747091711183504\n",
       "\\item -0.801275439920734\n",
       "\\item -1.41413154189497\n",
       "\\item 1.23076974846407\n",
       "\\end{enumerate*}\n"
      ],
      "text/markdown": [
       "1. -0.402317797106711\n",
       "2. 0.747091711183504\n",
       "3. -0.801275439920734\n",
       "4. -1.41413154189497\n",
       "5. 1.23076974846407\n",
       "\n",
       "\n"
      ],
      "text/plain": [
       "[1] -0.4023178  0.7470917 -0.8012754 -1.4141315  1.2307697"
      ]
     },
     "metadata": {},
     "output_type": "display_data"
    }
   ],
   "source": [
    "###************\n",
    "## Power of vectorized operations ##\n",
    "\n",
    "#why vectorized operations is much preferred than devectorized in R\n",
    "\n",
    "x <- rnorm(5)\n",
    "x"
   ]
  },
  {
   "cell_type": "code",
   "execution_count": 33,
   "metadata": {},
   "outputs": [
    {
     "name": "stdout",
     "output_type": "stream",
     "text": [
      "[1] -0.4023178\n",
      "[1] 0.7470917\n",
      "[1] -0.8012754\n",
      "[1] -1.414132\n",
      "[1] 1.23077\n"
     ]
    }
   ],
   "source": [
    "#R specific programming loop\n",
    "for (i in x){\n",
    "  print (i)\n",
    "}\n",
    "#here i is iterating over each element"
   ]
  },
  {
   "cell_type": "code",
   "execution_count": 34,
   "metadata": {},
   "outputs": [
    {
     "name": "stdout",
     "output_type": "stream",
     "text": [
      "[1] -0.4023178\n",
      "[1] 0.7470917\n"
     ]
    }
   ],
   "source": [
    "#to print specific value:\n",
    "print(x[1]) #prints the 1st value\n",
    "print(x[2]) #prints the 2nd value"
   ]
  },
  {
   "cell_type": "code",
   "execution_count": 37,
   "metadata": {},
   "outputs": [],
   "source": [
    "#when you are doing a iterative process, use a loop\n",
    "# print(x[j]) # now lets turn this into a loop #iterate over numbers"
   ]
  },
  {
   "cell_type": "code",
   "execution_count": 38,
   "metadata": {},
   "outputs": [
    {
     "name": "stdout",
     "output_type": "stream",
     "text": [
      "[1] -0.4023178\n",
      "[1] 0.7470917\n",
      "[1] -0.8012754\n",
      "[1] -1.414132\n",
      "[1] 1.23077\n"
     ]
    }
   ],
   "source": [
    "#conventional programming loop\n",
    "for (j in 1:5){\n",
    "  print(x[j])\n",
    "}\n"
   ]
  },
  {
   "cell_type": "markdown",
   "metadata": {},
   "source": [
    "---"
   ]
  },
  {
   "cell_type": "code",
   "execution_count": null,
   "metadata": {},
   "outputs": [],
   "source": [
    "# - - - - - - --  2nd Part\n",
    "#Compare vectorized vs devectorized operations\n",
    "\n",
    "N <- 10000000\n",
    "a <- rnorm(N)\n",
    "b <- rnorm(N)\n",
    "\n",
    "## Vectorized approach ##\n",
    "c <- a * b\n",
    "c"
   ]
  },
  {
   "cell_type": "code",
   "execution_count": null,
   "metadata": {},
   "outputs": [],
   "source": [
    "## Vectorized approach ##\n",
    "c <- a * b\n",
    "c"
   ]
  },
  {
   "cell_type": "code",
   "execution_count": null,
   "metadata": {},
   "outputs": [],
   "source": [
    "## Devectorized approach ##\n",
    "d <- rep(NA, N) #replicate an empty vector to allocate memory\n",
    "for (i in 1:N) {\n",
    "  d[i]<- a[i]*b[i]\n",
    "}\n",
    "\n",
    "d\n",
    "#this takes longer\n",
    "\n",
    "#note a devectorized operations works better in C or Julia programming language\n",
    "#R is a high level programming languages\n",
    "#R is acting as a wrapper for C and Fortran language\n",
    "#R is communicating with C and Fortran to perform the operations\n"
   ]
  },
  {
   "cell_type": "markdown",
   "metadata": {},
   "source": [
    "---"
   ]
  },
  {
   "cell_type": "code",
   "execution_count": null,
   "metadata": {},
   "outputs": [],
   "source": [
    "###************\n",
    "## Functions in R ##\n",
    "\n",
    "#How fuctions work?\n",
    "#It requires an input variables\n",
    "#function processes the input variables and produces an output\n",
    "# sort of like a blender produces a 'smoothie' output from 'fruits' inputs\n",
    "\n",
    "#some functions that have been used\n",
    "\n",
    "#rnorm()\n",
    "#c()\n",
    "#seq()\n",
    "#rep()\n",
    "\n",
    "#print()\n",
    "# is.numeric()\n",
    "# is.integer()\n",
    "# is.double()\n",
    "# is.character()\n",
    "\n",
    "# typeof()\n",
    "# sqrt()\n",
    "# paste()\n",
    "\n",
    "# to comment  a line *SHIFT + CMND + C*\n",
    "#? - to bring out the help, type ? infront of the function\n"
   ]
  },
  {
   "cell_type": "code",
   "execution_count": 42,
   "metadata": {},
   "outputs": [
    {
     "data": {
      "text/html": [
       "<ol class=list-inline>\n",
       "\t<li>20.4388400959768</li>\n",
       "\t<li>10.5408572161476</li>\n",
       "\t<li>14.7003177073873</li>\n",
       "\t<li>4.78014841752037</li>\n",
       "\t<li>9.15998217417296</li>\n",
       "</ol>\n"
      ],
      "text/latex": [
       "\\begin{enumerate*}\n",
       "\\item 20.4388400959768\n",
       "\\item 10.5408572161476\n",
       "\\item 14.7003177073873\n",
       "\\item 4.78014841752037\n",
       "\\item 9.15998217417296\n",
       "\\end{enumerate*}\n"
      ],
      "text/markdown": [
       "1. 20.4388400959768\n",
       "2. 10.5408572161476\n",
       "3. 14.7003177073873\n",
       "4. 4.78014841752037\n",
       "5. 9.15998217417296\n",
       "\n",
       "\n"
      ],
      "text/plain": [
       "[1] 20.438840 10.540857 14.700318  4.780148  9.159982"
      ]
     },
     "metadata": {},
     "output_type": "display_data"
    },
    {
     "data": {
      "text/html": [
       "<ol class=list-inline>\n",
       "\t<li>10.367132945521</li>\n",
       "\t<li>8.23496179923521</li>\n",
       "\t<li>4.85640936272259</li>\n",
       "\t<li>26.322099776405</li>\n",
       "\t<li>17.4581860814561</li>\n",
       "</ol>\n"
      ],
      "text/latex": [
       "\\begin{enumerate*}\n",
       "\\item 10.367132945521\n",
       "\\item 8.23496179923521\n",
       "\\item 4.85640936272259\n",
       "\\item 26.322099776405\n",
       "\\item 17.4581860814561\n",
       "\\end{enumerate*}\n"
      ],
      "text/markdown": [
       "1. 10.367132945521\n",
       "2. 8.23496179923521\n",
       "3. 4.85640936272259\n",
       "4. 26.322099776405\n",
       "5. 17.4581860814561\n",
       "\n",
       "\n"
      ],
      "text/plain": [
       "[1] 10.367133  8.234962  4.856409 26.322100 17.458186"
      ]
     },
     "metadata": {},
     "output_type": "display_data"
    },
    {
     "data": {
      "text/html": [
       "<ol class=list-inline>\n",
       "\t<li>-10.2998978922625</li>\n",
       "\t<li>-7.17673436763993</li>\n",
       "\t<li>-8.92653304216373</li>\n",
       "\t<li>7.57774922445034</li>\n",
       "\t<li>10.0274691355241</li>\n",
       "</ol>\n"
      ],
      "text/latex": [
       "\\begin{enumerate*}\n",
       "\\item -10.2998978922625\n",
       "\\item -7.17673436763993\n",
       "\\item -8.92653304216373\n",
       "\\item 7.57774922445034\n",
       "\\item 10.0274691355241\n",
       "\\end{enumerate*}\n"
      ],
      "text/markdown": [
       "1. -10.2998978922625\n",
       "2. -7.17673436763993\n",
       "3. -8.92653304216373\n",
       "4. 7.57774922445034\n",
       "5. 10.0274691355241\n",
       "\n",
       "\n"
      ],
      "text/plain": [
       "[1] -10.299898  -7.176734  -8.926533   7.577749  10.027469"
      ]
     },
     "metadata": {},
     "output_type": "display_data"
    },
    {
     "data": {
      "text/html": [
       "<ol class=list-inline>\n",
       "\t<li>6.20419285114092</li>\n",
       "\t<li>8.73267597946372</li>\n",
       "\t<li>7.32523070365932</li>\n",
       "\t<li>8.48117644172648</li>\n",
       "\t<li>7.01785635899143</li>\n",
       "</ol>\n"
      ],
      "text/latex": [
       "\\begin{enumerate*}\n",
       "\\item 6.20419285114092\n",
       "\\item 8.73267597946372\n",
       "\\item 7.32523070365932\n",
       "\\item 8.48117644172648\n",
       "\\item 7.01785635899143\n",
       "\\end{enumerate*}\n"
      ],
      "text/markdown": [
       "1. 6.20419285114092\n",
       "2. 8.73267597946372\n",
       "3. 7.32523070365932\n",
       "4. 8.48117644172648\n",
       "5. 7.01785635899143\n",
       "\n",
       "\n"
      ],
      "text/plain": [
       "[1] 6.204193 8.732676 7.325231 8.481176 7.017856"
      ]
     },
     "metadata": {},
     "output_type": "display_data"
    }
   ],
   "source": [
    "?rnorm()\n",
    "#rnorm(n, mean = 0, sd = 1) this are default values\n",
    "rnorm( 5, 10, 8)\n",
    "\n",
    "# the above function is asking to generate 5 numbers with mean = 2 and sd =8\n",
    "# you can also write it as\n",
    "\n",
    "rnorm(n=5, mean = 10, sd = 8)\n",
    "rnorm(n=5, sd = 8)\n",
    "rnorm(n=5, mean = 8)"
   ]
  },
  {
   "cell_type": "code",
   "execution_count": 41,
   "metadata": {},
   "outputs": [],
   "source": [
    "?c()"
   ]
  },
  {
   "cell_type": "code",
   "execution_count": 43,
   "metadata": {},
   "outputs": [
    {
     "data": {
      "text/html": [
       "<ol class=list-inline>\n",
       "\t<li>10</li>\n",
       "\t<li>13</li>\n",
       "\t<li>16</li>\n",
       "\t<li>19</li>\n",
       "</ol>\n"
      ],
      "text/latex": [
       "\\begin{enumerate*}\n",
       "\\item 10\n",
       "\\item 13\n",
       "\\item 16\n",
       "\\item 19\n",
       "\\end{enumerate*}\n"
      ],
      "text/markdown": [
       "1. 10\n",
       "2. 13\n",
       "3. 16\n",
       "4. 19\n",
       "\n",
       "\n"
      ],
      "text/plain": [
       "[1] 10 13 16 19"
      ]
     },
     "metadata": {},
     "output_type": "display_data"
    },
    {
     "data": {
      "text/html": [
       "<ol class=list-inline>\n",
       "\t<li>10</li>\n",
       "\t<li>10.1010101010101</li>\n",
       "\t<li>10.2020202020202</li>\n",
       "\t<li>10.3030303030303</li>\n",
       "\t<li>10.4040404040404</li>\n",
       "\t<li>10.5050505050505</li>\n",
       "\t<li>10.6060606060606</li>\n",
       "\t<li>10.7070707070707</li>\n",
       "\t<li>10.8080808080808</li>\n",
       "\t<li>10.9090909090909</li>\n",
       "\t<li>11.010101010101</li>\n",
       "\t<li>11.1111111111111</li>\n",
       "\t<li>11.2121212121212</li>\n",
       "\t<li>11.3131313131313</li>\n",
       "\t<li>11.4141414141414</li>\n",
       "\t<li>11.5151515151515</li>\n",
       "\t<li>11.6161616161616</li>\n",
       "\t<li>11.7171717171717</li>\n",
       "\t<li>11.8181818181818</li>\n",
       "\t<li>11.9191919191919</li>\n",
       "\t<li>12.020202020202</li>\n",
       "\t<li>12.1212121212121</li>\n",
       "\t<li>12.2222222222222</li>\n",
       "\t<li>12.3232323232323</li>\n",
       "\t<li>12.4242424242424</li>\n",
       "\t<li>12.5252525252525</li>\n",
       "\t<li>12.6262626262626</li>\n",
       "\t<li>12.7272727272727</li>\n",
       "\t<li>12.8282828282828</li>\n",
       "\t<li>12.9292929292929</li>\n",
       "\t<li>13.030303030303</li>\n",
       "\t<li>13.1313131313131</li>\n",
       "\t<li>13.2323232323232</li>\n",
       "\t<li>13.3333333333333</li>\n",
       "\t<li>13.4343434343434</li>\n",
       "\t<li>13.5353535353535</li>\n",
       "\t<li>13.6363636363636</li>\n",
       "\t<li>13.7373737373737</li>\n",
       "\t<li>13.8383838383838</li>\n",
       "\t<li>13.9393939393939</li>\n",
       "\t<li>14.040404040404</li>\n",
       "\t<li>14.1414141414141</li>\n",
       "\t<li>14.2424242424242</li>\n",
       "\t<li>14.3434343434343</li>\n",
       "\t<li>14.4444444444444</li>\n",
       "\t<li>14.5454545454545</li>\n",
       "\t<li>14.6464646464646</li>\n",
       "\t<li>14.7474747474747</li>\n",
       "\t<li>14.8484848484848</li>\n",
       "\t<li>14.9494949494949</li>\n",
       "\t<li>15.0505050505051</li>\n",
       "\t<li>15.1515151515152</li>\n",
       "\t<li>15.2525252525253</li>\n",
       "\t<li>15.3535353535354</li>\n",
       "\t<li>15.4545454545455</li>\n",
       "\t<li>15.5555555555556</li>\n",
       "\t<li>15.6565656565657</li>\n",
       "\t<li>15.7575757575758</li>\n",
       "\t<li>15.8585858585859</li>\n",
       "\t<li>15.959595959596</li>\n",
       "\t<li>16.0606060606061</li>\n",
       "\t<li>16.1616161616162</li>\n",
       "\t<li>16.2626262626263</li>\n",
       "\t<li>16.3636363636364</li>\n",
       "\t<li>16.4646464646465</li>\n",
       "\t<li>16.5656565656566</li>\n",
       "\t<li>16.6666666666667</li>\n",
       "\t<li>16.7676767676768</li>\n",
       "\t<li>16.8686868686869</li>\n",
       "\t<li>16.969696969697</li>\n",
       "\t<li>17.0707070707071</li>\n",
       "\t<li>17.1717171717172</li>\n",
       "\t<li>17.2727272727273</li>\n",
       "\t<li>17.3737373737374</li>\n",
       "\t<li>17.4747474747475</li>\n",
       "\t<li>17.5757575757576</li>\n",
       "\t<li>17.6767676767677</li>\n",
       "\t<li>17.7777777777778</li>\n",
       "\t<li>17.8787878787879</li>\n",
       "\t<li>17.979797979798</li>\n",
       "\t<li>18.0808080808081</li>\n",
       "\t<li>18.1818181818182</li>\n",
       "\t<li>18.2828282828283</li>\n",
       "\t<li>18.3838383838384</li>\n",
       "\t<li>18.4848484848485</li>\n",
       "\t<li>18.5858585858586</li>\n",
       "\t<li>18.6868686868687</li>\n",
       "\t<li>18.7878787878788</li>\n",
       "\t<li>18.8888888888889</li>\n",
       "\t<li>18.989898989899</li>\n",
       "\t<li>19.0909090909091</li>\n",
       "\t<li>19.1919191919192</li>\n",
       "\t<li>19.2929292929293</li>\n",
       "\t<li>19.3939393939394</li>\n",
       "\t<li>19.4949494949495</li>\n",
       "\t<li>19.5959595959596</li>\n",
       "\t<li>19.6969696969697</li>\n",
       "\t<li>19.7979797979798</li>\n",
       "\t<li>19.8989898989899</li>\n",
       "\t<li>20</li>\n",
       "</ol>\n"
      ],
      "text/latex": [
       "\\begin{enumerate*}\n",
       "\\item 10\n",
       "\\item 10.1010101010101\n",
       "\\item 10.2020202020202\n",
       "\\item 10.3030303030303\n",
       "\\item 10.4040404040404\n",
       "\\item 10.5050505050505\n",
       "\\item 10.6060606060606\n",
       "\\item 10.7070707070707\n",
       "\\item 10.8080808080808\n",
       "\\item 10.9090909090909\n",
       "\\item 11.010101010101\n",
       "\\item 11.1111111111111\n",
       "\\item 11.2121212121212\n",
       "\\item 11.3131313131313\n",
       "\\item 11.4141414141414\n",
       "\\item 11.5151515151515\n",
       "\\item 11.6161616161616\n",
       "\\item 11.7171717171717\n",
       "\\item 11.8181818181818\n",
       "\\item 11.9191919191919\n",
       "\\item 12.020202020202\n",
       "\\item 12.1212121212121\n",
       "\\item 12.2222222222222\n",
       "\\item 12.3232323232323\n",
       "\\item 12.4242424242424\n",
       "\\item 12.5252525252525\n",
       "\\item 12.6262626262626\n",
       "\\item 12.7272727272727\n",
       "\\item 12.8282828282828\n",
       "\\item 12.9292929292929\n",
       "\\item 13.030303030303\n",
       "\\item 13.1313131313131\n",
       "\\item 13.2323232323232\n",
       "\\item 13.3333333333333\n",
       "\\item 13.4343434343434\n",
       "\\item 13.5353535353535\n",
       "\\item 13.6363636363636\n",
       "\\item 13.7373737373737\n",
       "\\item 13.8383838383838\n",
       "\\item 13.9393939393939\n",
       "\\item 14.040404040404\n",
       "\\item 14.1414141414141\n",
       "\\item 14.2424242424242\n",
       "\\item 14.3434343434343\n",
       "\\item 14.4444444444444\n",
       "\\item 14.5454545454545\n",
       "\\item 14.6464646464646\n",
       "\\item 14.7474747474747\n",
       "\\item 14.8484848484848\n",
       "\\item 14.9494949494949\n",
       "\\item 15.0505050505051\n",
       "\\item 15.1515151515152\n",
       "\\item 15.2525252525253\n",
       "\\item 15.3535353535354\n",
       "\\item 15.4545454545455\n",
       "\\item 15.5555555555556\n",
       "\\item 15.6565656565657\n",
       "\\item 15.7575757575758\n",
       "\\item 15.8585858585859\n",
       "\\item 15.959595959596\n",
       "\\item 16.0606060606061\n",
       "\\item 16.1616161616162\n",
       "\\item 16.2626262626263\n",
       "\\item 16.3636363636364\n",
       "\\item 16.4646464646465\n",
       "\\item 16.5656565656566\n",
       "\\item 16.6666666666667\n",
       "\\item 16.7676767676768\n",
       "\\item 16.8686868686869\n",
       "\\item 16.969696969697\n",
       "\\item 17.0707070707071\n",
       "\\item 17.1717171717172\n",
       "\\item 17.2727272727273\n",
       "\\item 17.3737373737374\n",
       "\\item 17.4747474747475\n",
       "\\item 17.5757575757576\n",
       "\\item 17.6767676767677\n",
       "\\item 17.7777777777778\n",
       "\\item 17.8787878787879\n",
       "\\item 17.979797979798\n",
       "\\item 18.0808080808081\n",
       "\\item 18.1818181818182\n",
       "\\item 18.2828282828283\n",
       "\\item 18.3838383838384\n",
       "\\item 18.4848484848485\n",
       "\\item 18.5858585858586\n",
       "\\item 18.6868686868687\n",
       "\\item 18.7878787878788\n",
       "\\item 18.8888888888889\n",
       "\\item 18.989898989899\n",
       "\\item 19.0909090909091\n",
       "\\item 19.1919191919192\n",
       "\\item 19.2929292929293\n",
       "\\item 19.3939393939394\n",
       "\\item 19.4949494949495\n",
       "\\item 19.5959595959596\n",
       "\\item 19.6969696969697\n",
       "\\item 19.7979797979798\n",
       "\\item 19.8989898989899\n",
       "\\item 20\n",
       "\\end{enumerate*}\n"
      ],
      "text/markdown": [
       "1. 10\n",
       "2. 10.1010101010101\n",
       "3. 10.2020202020202\n",
       "4. 10.3030303030303\n",
       "5. 10.4040404040404\n",
       "6. 10.5050505050505\n",
       "7. 10.6060606060606\n",
       "8. 10.7070707070707\n",
       "9. 10.8080808080808\n",
       "10. 10.9090909090909\n",
       "11. 11.010101010101\n",
       "12. 11.1111111111111\n",
       "13. 11.2121212121212\n",
       "14. 11.3131313131313\n",
       "15. 11.4141414141414\n",
       "16. 11.5151515151515\n",
       "17. 11.6161616161616\n",
       "18. 11.7171717171717\n",
       "19. 11.8181818181818\n",
       "20. 11.9191919191919\n",
       "21. 12.020202020202\n",
       "22. 12.1212121212121\n",
       "23. 12.2222222222222\n",
       "24. 12.3232323232323\n",
       "25. 12.4242424242424\n",
       "26. 12.5252525252525\n",
       "27. 12.6262626262626\n",
       "28. 12.7272727272727\n",
       "29. 12.8282828282828\n",
       "30. 12.9292929292929\n",
       "31. 13.030303030303\n",
       "32. 13.1313131313131\n",
       "33. 13.2323232323232\n",
       "34. 13.3333333333333\n",
       "35. 13.4343434343434\n",
       "36. 13.5353535353535\n",
       "37. 13.6363636363636\n",
       "38. 13.7373737373737\n",
       "39. 13.8383838383838\n",
       "40. 13.9393939393939\n",
       "41. 14.040404040404\n",
       "42. 14.1414141414141\n",
       "43. 14.2424242424242\n",
       "44. 14.3434343434343\n",
       "45. 14.4444444444444\n",
       "46. 14.5454545454545\n",
       "47. 14.6464646464646\n",
       "48. 14.7474747474747\n",
       "49. 14.8484848484848\n",
       "50. 14.9494949494949\n",
       "51. 15.0505050505051\n",
       "52. 15.1515151515152\n",
       "53. 15.2525252525253\n",
       "54. 15.3535353535354\n",
       "55. 15.4545454545455\n",
       "56. 15.5555555555556\n",
       "57. 15.6565656565657\n",
       "58. 15.7575757575758\n",
       "59. 15.8585858585859\n",
       "60. 15.959595959596\n",
       "61. 16.0606060606061\n",
       "62. 16.1616161616162\n",
       "63. 16.2626262626263\n",
       "64. 16.3636363636364\n",
       "65. 16.4646464646465\n",
       "66. 16.5656565656566\n",
       "67. 16.6666666666667\n",
       "68. 16.7676767676768\n",
       "69. 16.8686868686869\n",
       "70. 16.969696969697\n",
       "71. 17.0707070707071\n",
       "72. 17.1717171717172\n",
       "73. 17.2727272727273\n",
       "74. 17.3737373737374\n",
       "75. 17.4747474747475\n",
       "76. 17.5757575757576\n",
       "77. 17.6767676767677\n",
       "78. 17.7777777777778\n",
       "79. 17.8787878787879\n",
       "80. 17.979797979798\n",
       "81. 18.0808080808081\n",
       "82. 18.1818181818182\n",
       "83. 18.2828282828283\n",
       "84. 18.3838383838384\n",
       "85. 18.4848484848485\n",
       "86. 18.5858585858586\n",
       "87. 18.6868686868687\n",
       "88. 18.7878787878788\n",
       "89. 18.8888888888889\n",
       "90. 18.989898989899\n",
       "91. 19.0909090909091\n",
       "92. 19.1919191919192\n",
       "93. 19.2929292929293\n",
       "94. 19.3939393939394\n",
       "95. 19.4949494949495\n",
       "96. 19.5959595959596\n",
       "97. 19.6969696969697\n",
       "98. 19.7979797979798\n",
       "99. 19.8989898989899\n",
       "100. 20\n",
       "\n",
       "\n"
      ],
      "text/plain": [
       "  [1] 10.00000 10.10101 10.20202 10.30303 10.40404 10.50505 10.60606 10.70707\n",
       "  [9] 10.80808 10.90909 11.01010 11.11111 11.21212 11.31313 11.41414 11.51515\n",
       " [17] 11.61616 11.71717 11.81818 11.91919 12.02020 12.12121 12.22222 12.32323\n",
       " [25] 12.42424 12.52525 12.62626 12.72727 12.82828 12.92929 13.03030 13.13131\n",
       " [33] 13.23232 13.33333 13.43434 13.53535 13.63636 13.73737 13.83838 13.93939\n",
       " [41] 14.04040 14.14141 14.24242 14.34343 14.44444 14.54545 14.64646 14.74747\n",
       " [49] 14.84848 14.94949 15.05051 15.15152 15.25253 15.35354 15.45455 15.55556\n",
       " [57] 15.65657 15.75758 15.85859 15.95960 16.06061 16.16162 16.26263 16.36364\n",
       " [65] 16.46465 16.56566 16.66667 16.76768 16.86869 16.96970 17.07071 17.17172\n",
       " [73] 17.27273 17.37374 17.47475 17.57576 17.67677 17.77778 17.87879 17.97980\n",
       " [81] 18.08081 18.18182 18.28283 18.38384 18.48485 18.58586 18.68687 18.78788\n",
       " [89] 18.88889 18.98990 19.09091 19.19192 19.29293 19.39394 19.49495 19.59596\n",
       " [97] 19.69697 19.79798 19.89899 20.00000"
      ]
     },
     "metadata": {},
     "output_type": "display_data"
    }
   ],
   "source": [
    "?seq()\n",
    "seq(from = 10, to = 20, by =3)\n",
    "seq(from = 10, to = 20, length.out = 100) #produces 100 numbers (length of output) \n",
    "#b/t 10 and 20"
   ]
  },
  {
   "cell_type": "code",
   "execution_count": 44,
   "metadata": {},
   "outputs": [
    {
     "data": {
      "text/html": [
       "<ol class=list-inline>\n",
       "\t<li>5</li>\n",
       "\t<li>6</li>\n",
       "\t<li>5</li>\n",
       "\t<li>6</li>\n",
       "\t<li>5</li>\n",
       "\t<li>6</li>\n",
       "\t<li>5</li>\n",
       "\t<li>6</li>\n",
       "\t<li>5</li>\n",
       "\t<li>6</li>\n",
       "\t<li>5</li>\n",
       "\t<li>6</li>\n",
       "\t<li>5</li>\n",
       "\t<li>6</li>\n",
       "\t<li>5</li>\n",
       "\t<li>6</li>\n",
       "\t<li>5</li>\n",
       "\t<li>6</li>\n",
       "\t<li>5</li>\n",
       "\t<li>6</li>\n",
       "</ol>\n"
      ],
      "text/latex": [
       "\\begin{enumerate*}\n",
       "\\item 5\n",
       "\\item 6\n",
       "\\item 5\n",
       "\\item 6\n",
       "\\item 5\n",
       "\\item 6\n",
       "\\item 5\n",
       "\\item 6\n",
       "\\item 5\n",
       "\\item 6\n",
       "\\item 5\n",
       "\\item 6\n",
       "\\item 5\n",
       "\\item 6\n",
       "\\item 5\n",
       "\\item 6\n",
       "\\item 5\n",
       "\\item 6\n",
       "\\item 5\n",
       "\\item 6\n",
       "\\end{enumerate*}\n"
      ],
      "text/markdown": [
       "1. 5\n",
       "2. 6\n",
       "3. 5\n",
       "4. 6\n",
       "5. 5\n",
       "6. 6\n",
       "7. 5\n",
       "8. 6\n",
       "9. 5\n",
       "10. 6\n",
       "11. 5\n",
       "12. 6\n",
       "13. 5\n",
       "14. 6\n",
       "15. 5\n",
       "16. 6\n",
       "17. 5\n",
       "18. 6\n",
       "19. 5\n",
       "20. 6\n",
       "\n",
       "\n"
      ],
      "text/plain": [
       " [1] 5 6 5 6 5 6 5 6 5 6 5 6 5 6 5 6 5 6 5 6"
      ]
     },
     "metadata": {},
     "output_type": "display_data"
    },
    {
     "data": {
      "text/html": [
       "<ol class=list-inline>\n",
       "\t<li>5</li>\n",
       "\t<li>5</li>\n",
       "\t<li>5</li>\n",
       "\t<li>5</li>\n",
       "\t<li>5</li>\n",
       "\t<li>5</li>\n",
       "\t<li>5</li>\n",
       "\t<li>5</li>\n",
       "\t<li>5</li>\n",
       "\t<li>5</li>\n",
       "\t<li>6</li>\n",
       "\t<li>6</li>\n",
       "\t<li>6</li>\n",
       "\t<li>6</li>\n",
       "\t<li>6</li>\n",
       "\t<li>6</li>\n",
       "\t<li>6</li>\n",
       "\t<li>6</li>\n",
       "\t<li>6</li>\n",
       "\t<li>6</li>\n",
       "</ol>\n"
      ],
      "text/latex": [
       "\\begin{enumerate*}\n",
       "\\item 5\n",
       "\\item 5\n",
       "\\item 5\n",
       "\\item 5\n",
       "\\item 5\n",
       "\\item 5\n",
       "\\item 5\n",
       "\\item 5\n",
       "\\item 5\n",
       "\\item 5\n",
       "\\item 6\n",
       "\\item 6\n",
       "\\item 6\n",
       "\\item 6\n",
       "\\item 6\n",
       "\\item 6\n",
       "\\item 6\n",
       "\\item 6\n",
       "\\item 6\n",
       "\\item 6\n",
       "\\end{enumerate*}\n"
      ],
      "text/markdown": [
       "1. 5\n",
       "2. 5\n",
       "3. 5\n",
       "4. 5\n",
       "5. 5\n",
       "6. 5\n",
       "7. 5\n",
       "8. 5\n",
       "9. 5\n",
       "10. 5\n",
       "11. 6\n",
       "12. 6\n",
       "13. 6\n",
       "14. 6\n",
       "15. 6\n",
       "16. 6\n",
       "17. 6\n",
       "18. 6\n",
       "19. 6\n",
       "20. 6\n",
       "\n",
       "\n"
      ],
      "text/plain": [
       " [1] 5 5 5 5 5 5 5 5 5 5 6 6 6 6 6 6 6 6 6 6"
      ]
     },
     "metadata": {},
     "output_type": "display_data"
    }
   ],
   "source": [
    "?rep()\n",
    "# rep(x, ...)\n",
    "# rep.int(x, times)\n",
    "# rep_len(x, length.out)\n",
    "\n",
    "rep(5:6, times =10) # 5 6 5 6 5 6 5 6 5 6 5 6 5 6 5 6 5 6 5 6\n",
    "rep(5:6, each =10) # 5 5 5 5 5 5 5 5 5 5 6 6 6 6 6 6 6 6 6 6"
   ]
  },
  {
   "cell_type": "code",
   "execution_count": 45,
   "metadata": {},
   "outputs": [
    {
     "data": {
      "text/html": [
       "<ol class=list-inline>\n",
       "\t<li>10</li>\n",
       "\t<li>12.5</li>\n",
       "\t<li>15</li>\n",
       "\t<li>17.5</li>\n",
       "\t<li>20</li>\n",
       "</ol>\n"
      ],
      "text/latex": [
       "\\begin{enumerate*}\n",
       "\\item 10\n",
       "\\item 12.5\n",
       "\\item 15\n",
       "\\item 17.5\n",
       "\\item 20\n",
       "\\end{enumerate*}\n"
      ],
      "text/markdown": [
       "1. 10\n",
       "2. 12.5\n",
       "3. 15\n",
       "4. 17.5\n",
       "5. 20\n",
       "\n",
       "\n"
      ],
      "text/plain": [
       "[1] 10.0 12.5 15.0 17.5 20.0"
      ]
     },
     "metadata": {},
     "output_type": "display_data"
    },
    {
     "data": {
      "text/html": [
       "<ol class=list-inline>\n",
       "\t<li>3.16227766016838</li>\n",
       "\t<li>3.53553390593274</li>\n",
       "\t<li>3.87298334620742</li>\n",
       "\t<li>4.18330013267038</li>\n",
       "\t<li>4.47213595499958</li>\n",
       "</ol>\n"
      ],
      "text/latex": [
       "\\begin{enumerate*}\n",
       "\\item 3.16227766016838\n",
       "\\item 3.53553390593274\n",
       "\\item 3.87298334620742\n",
       "\\item 4.18330013267038\n",
       "\\item 4.47213595499958\n",
       "\\end{enumerate*}\n"
      ],
      "text/markdown": [
       "1. 3.16227766016838\n",
       "2. 3.53553390593274\n",
       "3. 3.87298334620742\n",
       "4. 4.18330013267038\n",
       "5. 4.47213595499958\n",
       "\n",
       "\n"
      ],
      "text/plain": [
       "[1] 3.162278 3.535534 3.872983 4.183300 4.472136"
      ]
     },
     "metadata": {},
     "output_type": "display_data"
    }
   ],
   "source": [
    "?sqrt()\n",
    "A <- seq(from = 10, to = 20, along.with = x)\n",
    "A\n",
    "B <- sqrt(A)\n",
    "B"
   ]
  },
  {
   "cell_type": "code",
   "execution_count": 46,
   "metadata": {},
   "outputs": [],
   "source": [
    "?paste()"
   ]
  },
  {
   "cell_type": "markdown",
   "metadata": {},
   "source": [
    "---"
   ]
  },
  {
   "cell_type": "code",
   "execution_count": 54,
   "metadata": {},
   "outputs": [
    {
     "data": {},
     "metadata": {},
     "output_type": "display_data"
    },
    {
     "data": {
      "image/png": "[encoded data removed]",
      "text/plain": [
       "plot without title"
      ]
     },
     "metadata": {},
     "output_type": "display_data"
    }
   ],
   "source": [
    "###************\n",
    "## Packages in R ##\n",
    "# Packages are collections of R functions\n",
    "#librarries is where packages are stored\n",
    "#you can check/uncheck the package to activate/deactivate\n",
    "\n",
    "# packages are installed from CRAN\n",
    "# CRAN - Comprehensive R Archive Network\n",
    "\n",
    "#Install GGplot2 // note: when usng Jupyter notebook, just load the packages\n",
    "#install.package(\"r-ggplot2\")\n",
    "library(ggplot2)\n",
    "\n",
    "# we don't have access to some functions until we activate the package\n",
    "?qplot()\n",
    "?ggplot()\n",
    "?diamonds()\n",
    "\n",
    "#to activate a package: librabry is a fcn to activate packages\n",
    "library(ggplot2)\n",
    "?qplot()\n",
    "?ggplot()\n",
    "?diamonds()\n",
    "\n",
    "qplot( data=diamonds, carat, price, \n",
    "       colour=clarity, facets = .~clarity)"
   ]
  },
  {
   "cell_type": "markdown",
   "metadata": {},
   "source": [
    "---"
   ]
  }
 ],
 "metadata": {
  "kernelspec": {
   "display_name": "R",
   "language": "R",
   "name": "ir"
  },
  "language_info": {
   "codemirror_mode": "r",
   "file_extension": ".r",
   "mimetype": "text/x-r-source",
   "name": "R",
   "pygments_lexer": "r",
   "version": "3.5.1"
  }
 },
 "nbformat": 4,
 "nbformat_minor": 2
}
