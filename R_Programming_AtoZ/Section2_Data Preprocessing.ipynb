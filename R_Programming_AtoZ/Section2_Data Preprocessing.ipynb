{
 "cells": [
  {
   "cell_type": "markdown",
   "metadata": {},
   "source": [
    "## R Programming A-Z™: R For Data Science\n",
    "\n",
    "© Kirill Eremenko, SuperDataScience Team\n",
    "[Super Data Science](http://www.superdatascience.com)\n",
    "\n",
    " Section 2: Core Programming Principles\n",
    "\n",
    "Created on Apr  26, 2019\n",
    "@author: yinka_ola\n",
    "\n",
    "---"
   ]
  },
  {
   "cell_type": "code",
   "execution_count": 5,
   "metadata": {},
   "outputs": [
    {
     "data": {
      "text/html": [
       "'integer'"
      ],
      "text/latex": [
       "'integer'"
      ],
      "text/markdown": [
       "'integer'"
      ],
      "text/plain": [
       "[1] \"integer\""
      ]
     },
     "metadata": {},
     "output_type": "display_data"
    }
   ],
   "source": [
    "###************\n",
    "## Integers\n",
    "#to run your code  (on keyboard: CMND + ENTER)\n",
    "#assign 2 to x // to store as an integer, add 'L'\n",
    "x <- 2L\n",
    "#to check the variable type:\n",
    "typeof(x)"
   ]
  },
  {
   "cell_type": "code",
   "execution_count": 6,
   "metadata": {},
   "outputs": [
    {
     "data": {
      "text/html": [
       "'integer'"
      ],
      "text/latex": [
       "'integer'"
      ],
      "text/markdown": [
       "'integer'"
      ],
      "text/plain": [
       "[1] \"integer\""
      ]
     },
     "metadata": {},
     "output_type": "display_data"
    }
   ],
   "source": [
    "#double\n",
    "y <- 2.5\n",
    "typeof(x)"
   ]
  },
  {
   "cell_type": "code",
   "execution_count": 3,
   "metadata": {},
   "outputs": [
    {
     "data": {
      "text/html": [
       "'complex'"
      ],
      "text/latex": [
       "'complex'"
      ],
      "text/markdown": [
       "'complex'"
      ],
      "text/plain": [
       "[1] \"complex\""
      ]
     },
     "metadata": {},
     "output_type": "display_data"
    }
   ],
   "source": [
    "## R by default stores integer as double\n",
    "\n",
    "#complex numbers\n",
    "z<- 3+2i\n",
    "typeof(z)"
   ]
  },
  {
   "cell_type": "code",
   "execution_count": 4,
   "metadata": {},
   "outputs": [
    {
     "data": {
      "text/html": [
       "'character'"
      ],
      "text/latex": [
       "'character'"
      ],
      "text/markdown": [
       "'character'"
      ],
      "text/plain": [
       "[1] \"character\""
      ]
     },
     "metadata": {},
     "output_type": "display_data"
    }
   ],
   "source": [
    "#character: to put a letter in a variable, you use quotation marks \"\"\n",
    "a <- \"h\"\n",
    "typeof(a)\n"
   ]
  },
  {
   "cell_type": "code",
   "execution_count": 7,
   "metadata": {},
   "outputs": [
    {
     "data": {
      "text/html": [
       "'logical'"
      ],
      "text/latex": [
       "'logical'"
      ],
      "text/markdown": [
       "'logical'"
      ],
      "text/plain": [
       "[1] \"logical\""
      ]
     },
     "metadata": {},
     "output_type": "display_data"
    },
    {
     "data": {
      "text/html": [
       "'logical'"
      ],
      "text/latex": [
       "'logical'"
      ],
      "text/markdown": [
       "'logical'"
      ],
      "text/plain": [
       "[1] \"logical\""
      ]
     },
     "metadata": {},
     "output_type": "display_data"
    },
    {
     "data": {
      "text/html": [
       "'logical'"
      ],
      "text/latex": [
       "'logical'"
      ],
      "text/markdown": [
       "'logical'"
      ],
      "text/plain": [
       "[1] \"logical\""
      ]
     },
     "metadata": {},
     "output_type": "display_data"
    }
   ],
   "source": [
    "#logical variables (True/False)\n",
    "q1 <- T\n",
    "typeof(q1)\n",
    "q2 <- FALSE\n",
    "typeof(q2)\n",
    "q3 <- TRUE\n",
    "typeof(q3)"
   ]
  },
  {
   "cell_type": "code",
   "execution_count": 8,
   "metadata": {},
   "outputs": [
    {
     "data": {
      "text/html": [
       "15"
      ],
      "text/latex": [
       "15"
      ],
      "text/markdown": [
       "15"
      ],
      "text/plain": [
       "[1] 15"
      ]
     },
     "metadata": {},
     "output_type": "display_data"
    }
   ],
   "source": [
    "###************\n",
    "## Using Variables ##\n",
    "#always save your files that was created\n",
    "\n",
    "A <- 10\n",
    "B <- 5\n",
    "C <- A + B\n",
    "#note: spaces in R does not matter, \n",
    "#but it is best to input them for readability purpose\n",
    "#you can also execute multiple lines, just highlight the code\n",
    "C"
   ]
  },
  {
   "cell_type": "code",
   "execution_count": 9,
   "metadata": {},
   "outputs": [
    {
     "data": {
      "text/html": [
       "0.625"
      ],
      "text/latex": [
       "0.625"
      ],
      "text/markdown": [
       "0.625"
      ],
      "text/plain": [
       "[1] 0.625"
      ]
     },
     "metadata": {},
     "output_type": "display_data"
    }
   ],
   "source": [
    "#variable 1\n",
    "var1 <- 2.5\n",
    "#variable 2\n",
    "var2 <- 4\n",
    "result <- var1/var2\n",
    "result"
   ]
  },
  {
   "cell_type": "code",
   "execution_count": 10,
   "metadata": {},
   "outputs": [
    {
     "data": {
      "text/html": [
       "2"
      ],
      "text/latex": [
       "2"
      ],
      "text/markdown": [
       "2"
      ],
      "text/plain": [
       "[1] 2"
      ]
     },
     "metadata": {},
     "output_type": "display_data"
    }
   ],
   "source": [
    "#you can call functions and pass values into them\n",
    "answer <- sqrt(var2)\n",
    "answer"
   ]
  },
  {
   "cell_type": "code",
   "execution_count": 11,
   "metadata": {},
   "outputs": [
    {
     "data": {
      "text/html": [
       "'hello Bob'"
      ],
      "text/latex": [
       "'hello Bob'"
      ],
      "text/markdown": [
       "'hello Bob'"
      ],
      "text/plain": [
       "[1] \"hello Bob\""
      ]
     },
     "metadata": {},
     "output_type": "display_data"
    }
   ],
   "source": [
    "#character operations\n",
    "greeting <- \"hello\"\n",
    "name <- \"Bob\"\n",
    "#to add 2 variable together, use 'paste'\n",
    "message <- paste(greeting, name)\n",
    "message"
   ]
  },
  {
   "cell_type": "code",
   "execution_count": 12,
   "metadata": {},
   "outputs": [
    {
     "data": {
      "text/html": [
       "TRUE"
      ],
      "text/latex": [
       "TRUE"
      ],
      "text/markdown": [
       "TRUE"
      ],
      "text/plain": [
       "[1] TRUE"
      ]
     },
     "metadata": {},
     "output_type": "display_data"
    },
    {
     "data": {
      "text/html": [
       "FALSE"
      ],
      "text/latex": [
       "FALSE"
      ],
      "text/markdown": [
       "FALSE"
      ],
      "text/plain": [
       "[1] FALSE"
      ]
     },
     "metadata": {},
     "output_type": "display_data"
    }
   ],
   "source": [
    "###************\n",
    "##Logical Variables and Operators ##\n",
    "# T - TRUE | F - FALSE\n",
    "\n",
    "# == Equal to\n",
    "# != Not equal to\n",
    "# < less than\n",
    "# > greater than\n",
    "# <= less than or equal to\n",
    "# >= greater than or equal to\n",
    "# ! not\n",
    "# / or\n",
    "# & and\n",
    "# isTRUE() is this true?\n",
    "\n",
    "4 < 5 #True\n",
    "10 > 100 #"
   ]
  },
  {
   "cell_type": "code",
   "execution_count": 13,
   "metadata": {},
   "outputs": [
    {
     "data": {
      "text/html": [
       "TRUE"
      ],
      "text/latex": [
       "TRUE"
      ],
      "text/markdown": [
       "TRUE"
      ],
      "text/plain": [
       "[1] TRUE"
      ]
     },
     "metadata": {},
     "output_type": "display_data"
    },
    {
     "data": {
      "text/html": [
       "'logical'"
      ],
      "text/latex": [
       "'logical'"
      ],
      "text/markdown": [
       "'logical'"
      ],
      "text/plain": [
       "[1] \"logical\""
      ]
     },
     "metadata": {},
     "output_type": "display_data"
    }
   ],
   "source": [
    "result2 <- 4 < 5\n",
    "result2\n",
    "typeof(result2)"
   ]
  },
  {
   "cell_type": "code",
   "execution_count": 14,
   "metadata": {},
   "outputs": [
    {
     "data": {
      "text/html": [
       "FALSE"
      ],
      "text/latex": [
       "FALSE"
      ],
      "text/markdown": [
       "FALSE"
      ],
      "text/plain": [
       "[1] FALSE"
      ]
     },
     "metadata": {},
     "output_type": "display_data"
    }
   ],
   "source": [
    "result3 <-!(5 > 1)\n",
    "result3"
   ]
  },
  {
   "cell_type": "code",
   "execution_count": 15,
   "metadata": {},
   "outputs": [
    {
     "data": {
      "text/html": [
       "TRUE"
      ],
      "text/latex": [
       "TRUE"
      ],
      "text/markdown": [
       "TRUE"
      ],
      "text/plain": [
       "[1] TRUE"
      ]
     },
     "metadata": {},
     "output_type": "display_data"
    },
    {
     "data": {
      "text/html": [
       "FALSE"
      ],
      "text/latex": [
       "FALSE"
      ],
      "text/markdown": [
       "FALSE"
      ],
      "text/plain": [
       "[1] FALSE"
      ]
     },
     "metadata": {},
     "output_type": "display_data"
    },
    {
     "data": {
      "text/html": [
       "TRUE"
      ],
      "text/latex": [
       "TRUE"
      ],
      "text/markdown": [
       "TRUE"
      ],
      "text/plain": [
       "[1] TRUE"
      ]
     },
     "metadata": {},
     "output_type": "display_data"
    }
   ],
   "source": [
    "result2 | result3 #result2 OR result3 is true?\n",
    "result2 & result3 #result2 AND result3 is true?\n",
    "\n",
    "isTRUE(result2) #is this true?"
   ]
  },
  {
   "cell_type": "code",
   "execution_count": 16,
   "metadata": {},
   "outputs": [],
   "source": [
    "##*************\n",
    "## The \"While\" Loop ##\n",
    "#while the condition in () is true, it executes  the condition in the {} bracket\n",
    "#until the condition is no longer met and the loop stops\n",
    "\n",
    "while (FALSE) {\n",
    "  print(\"Hello\")\n",
    "}\n"
   ]
  },
  {
   "cell_type": "code",
   "execution_count": 18,
   "metadata": {},
   "outputs": [],
   "source": [
    "#the + means that the loop continues\n",
    "#here you get an infinite loop that prints \"hello\" as it continues to run\n",
    "#to stop the run, press \"Esc\"\n",
    "\n",
    "while (TRUE) {\n",
    "  print(\"Hello\")\n",
    "}"
   ]
  },
  {
   "cell_type": "code",
   "execution_count": 19,
   "metadata": {},
   "outputs": [
    {
     "name": "stdout",
     "output_type": "stream",
     "text": [
      "[1] 1\n",
      "[1] 2\n",
      "[1] 3\n",
      "[1] 4\n",
      "[1] 5\n",
      "[1] 6\n",
      "[1] 7\n",
      "[1] 8\n",
      "[1] 9\n",
      "[1] 10\n",
      "[1] 11\n"
     ]
    }
   ],
   "source": [
    "counter <- 1\n",
    "while(counter < 12){\n",
    "  print (counter)\n",
    "  counter <- counter + 1\n",
    "}"
   ]
  },
  {
   "cell_type": "code",
   "execution_count": 20,
   "metadata": {},
   "outputs": [
    {
     "data": {
      "text/html": [
       "5"
      ],
      "text/latex": [
       "5"
      ],
      "text/markdown": [
       "5"
      ],
      "text/plain": [
       "[1] 5"
      ]
     },
     "metadata": {},
     "output_type": "display_data"
    }
   ],
   "source": [
    "##*************\n",
    "## Using the console ##\n",
    "\n",
    "x <- 5\n",
    "x \n",
    "#R studio is an IDE environment (Shell) to make working in R much more friendly\n",
    "#you can also use R directly by writing the code directly in the console\n",
    "\n",
    "#note:you may not be able to save if you type directly in the console\n"
   ]
  },
  {
   "cell_type": "code",
   "execution_count": 21,
   "metadata": {},
   "outputs": [
    {
     "name": "stdout",
     "output_type": "stream",
     "text": [
      "[1] 1\n",
      "[1] 2\n",
      "[1] 3\n",
      "[1] 4\n",
      "[1] 5\n",
      "[1] 6\n",
      "[1] 7\n",
      "[1] 8\n",
      "[1] 9\n",
      "[1] 10\n",
      "[1] 11\n",
      "[1] \"Hello R\"\n",
      "[1] \"Hello R\"\n",
      "[1] \"Hello R\"\n",
      "[1] \"Hello R\"\n",
      "[1] \"Hello R\"\n"
     ]
    }
   ],
   "source": [
    "##*************\n",
    "## The \"For\" Loop ##\n",
    "#similar to the while loop, but easier\n",
    "\n",
    "counter <- 1\n",
    "while(counter < 12){\n",
    "  print (counter)\n",
    "  counter <- counter + 1\n",
    "}\n",
    "\n",
    "for(i in 1:5){\n",
    "  print(\"Hello R\")\n",
    "}\n"
   ]
  },
  {
   "cell_type": "code",
   "execution_count": 22,
   "metadata": {},
   "outputs": [
    {
     "data": {
      "text/html": [
       "<ol class=list-inline>\n",
       "\t<li>1</li>\n",
       "\t<li>2</li>\n",
       "\t<li>3</li>\n",
       "\t<li>4</li>\n",
       "\t<li>5</li>\n",
       "</ol>\n"
      ],
      "text/latex": [
       "\\begin{enumerate*}\n",
       "\\item 1\n",
       "\\item 2\n",
       "\\item 3\n",
       "\\item 4\n",
       "\\item 5\n",
       "\\end{enumerate*}\n"
      ],
      "text/markdown": [
       "1. 1\n",
       "2. 2\n",
       "3. 3\n",
       "4. 4\n",
       "5. 5\n",
       "\n",
       "\n"
      ],
      "text/plain": [
       "[1] 1 2 3 4 5"
      ]
     },
     "metadata": {},
     "output_type": "display_data"
    }
   ],
   "source": [
    "#for loop is shorter than while loop\n",
    "#this is the first encounter with vectors 1:5. It iterates thru i\n",
    "1:5 # this is a vector/sequence/array of numbers"
   ]
  },
  {
   "cell_type": "code",
   "execution_count": 23,
   "metadata": {},
   "outputs": [],
   "source": [
    "##*************\n",
    "## The \"IF\" Statement ##\n",
    "# we want to generate random normalized numbers between these values\n",
    "# ----- -2 ----- -1 ----- 0 ---- 1 ---- 1 ---- 2\n",
    "#to generate random number, use rnorm()\n",
    "\n",
    "#if you keep running this equation, you will get a different number from each run\n",
    "#use the \"if\" statement to see where the number will fall\n",
    "#if statment only run once"
   ]
  },
  {
   "cell_type": "code",
   "execution_count": 41,
   "metadata": {},
   "outputs": [
    {
     "name": "stdout",
     "output_type": "stream",
     "text": [
      "[1] -0.3507495\n"
     ]
    },
    {
     "ename": "ERROR",
     "evalue": "Error in print(answer): object 'answer' not found\n",
     "output_type": "error",
     "traceback": [
      "Error in print(answer): object 'answer' not found\nTraceback:\n",
      "1. print(answer)"
     ]
    }
   ],
   "source": [
    "x <- rnorm(1)\n",
    "if (x > 1){\n",
    "  answer <- \"Greater than 1\"\n",
    "}\n",
    "print(x)"
   ]
  },
  {
   "cell_type": "code",
   "execution_count": 42,
   "metadata": {},
   "outputs": [
    {
     "name": "stderr",
     "output_type": "stream",
     "text": [
      "Warning message in rm(answer):\n",
      "“object 'answer' not found”"
     ]
    }
   ],
   "source": [
    "#how to remove variable in R use rm()\n",
    "rm(answer)"
   ]
  },
  {
   "cell_type": "code",
   "execution_count": 43,
   "metadata": {},
   "outputs": [
    {
     "name": "stdout",
     "output_type": "stream",
     "text": [
      "[1] 0.02277194\n"
     ]
    }
   ],
   "source": [
    "x <- rnorm(1)\n",
    "if (x > 1){\n",
    "  answer <- \"Greater than 1\"\n",
    "}\n",
    "print(x)"
   ]
  },
  {
   "cell_type": "code",
   "execution_count": 44,
   "metadata": {},
   "outputs": [
    {
     "name": "stdout",
     "output_type": "stream",
     "text": [
      "[1] \"Less or equal to 1\"\n"
     ]
    }
   ],
   "source": [
    "#if we want something else to happen, use 'else' statement\n",
    "x <- rnorm(1)\n",
    "if (x > 1){\n",
    "  answer <- \"Greater than 1\"\n",
    "} else{\n",
    "  answer <- \"Less or equal to 1\"\n",
    "}\n",
    "print(answer)"
   ]
  },
  {
   "cell_type": "code",
   "execution_count": 47,
   "metadata": {},
   "outputs": [
    {
     "name": "stdout",
     "output_type": "stream",
     "text": [
      "[1] \"Less than -1\"\n"
     ]
    }
   ],
   "source": [
    "#what if we have another condition to add?\n",
    "#simply run an additional if ..else statement\n",
    "#nested if... else statement\n",
    "\n",
    "rm(answer)\n",
    "x <- rnorm(1)\n",
    "if (x > 1){\n",
    "  answer <- \"Greater than 1\"\n",
    "} else{\n",
    "  \n",
    "  if (x >= 1){\n",
    "    answer <- \"Between -1 and 1\"\n",
    "  } else{\n",
    "  answer <- \"Less than -1\"\n",
    "}\n",
    "}\n",
    "print(answer)"
   ]
  },
  {
   "cell_type": "code",
   "execution_count": 50,
   "metadata": {},
   "outputs": [
    {
     "name": "stdout",
     "output_type": "stream",
     "text": [
      "[1] \"Less than -1\"\n"
     ]
    }
   ],
   "source": [
    "#nested statement gets to messy, use chaining method instead\n",
    "\n",
    "rm(answer)\n",
    "x <- rnorm(1)\n",
    "if (x > 1){\n",
    "  answer <- \"Greater than 1\"\n",
    "} else if (x >= 1){\n",
    "  answer <- \"Between -1 and 1\"\n",
    "  } else{\n",
    "    answer <- \"Less than -1\"\n",
    "  }\n",
    "print(answer)"
   ]
  },
  {
   "cell_type": "markdown",
   "metadata": {},
   "source": [
    "---"
   ]
  },
  {
   "cell_type": "code",
   "execution_count": 53,
   "metadata": {},
   "outputs": [
    {
     "data": {
      "text/html": [
       "<ol class=list-inline>\n",
       "\t<li>-1.133119928925</li>\n",
       "\t<li>-2.16382314378955</li>\n",
       "\t<li>-0.299537753719124</li>\n",
       "\t<li>0.271384081099453</li>\n",
       "\t<li>-0.984953282547921</li>\n",
       "\t<li>-1.54668386149647</li>\n",
       "\t<li>0.061948815318257</li>\n",
       "\t<li>1.77006484848143</li>\n",
       "\t<li>1.08326721506244</li>\n",
       "\t<li>-1.43996327072474</li>\n",
       "\t<li>-0.974004007171023</li>\n",
       "\t<li>-0.00916176894203581</li>\n",
       "\t<li>-0.439492679415972</li>\n",
       "\t<li>1.9385196574233</li>\n",
       "\t<li>-0.446892534775952</li>\n",
       "\t<li>0.348151743655097</li>\n",
       "\t<li>-0.0590332412390549</li>\n",
       "\t<li>-0.513539157971552</li>\n",
       "\t<li>-0.230235477686811</li>\n",
       "\t<li>-0.525854069447128</li>\n",
       "\t<li>1.93015334613825</li>\n",
       "\t<li>-0.950896077965138</li>\n",
       "\t<li>0.0804573436388152</li>\n",
       "\t<li>1.00515585462378</li>\n",
       "\t<li>0.556069742075955</li>\n",
       "\t<li>-2.13399788666043</li>\n",
       "\t<li>1.73714134438589</li>\n",
       "\t<li>0.411908316310293</li>\n",
       "\t<li>0.347223251943531</li>\n",
       "\t<li>0.6183164450949</li>\n",
       "\t<li>-0.369861122697882</li>\n",
       "\t<li>-1.1871159593229</li>\n",
       "\t<li>1.23734815798534</li>\n",
       "\t<li>1.89863580605753</li>\n",
       "\t<li>-0.384103958340271</li>\n",
       "\t<li>-1.25455647252108</li>\n",
       "\t<li>-0.741695571436819</li>\n",
       "\t<li>-1.9428727211854</li>\n",
       "\t<li>-0.922111324436283</li>\n",
       "\t<li>-1.31106001449037</li>\n",
       "\t<li>-0.835630112771529</li>\n",
       "\t<li>-1.01071051656144</li>\n",
       "\t<li>0.596564346512472</li>\n",
       "\t<li>-0.573288012961151</li>\n",
       "\t<li>-0.21476624498891</li>\n",
       "\t<li>-1.7509426728903</li>\n",
       "\t<li>-0.487506034617379</li>\n",
       "\t<li>1.19534420431003</li>\n",
       "\t<li>-0.00557037378935467</li>\n",
       "\t<li>0.901916399826188</li>\n",
       "\t<li>0.829613898859736</li>\n",
       "\t<li>0.341643313522809</li>\n",
       "\t<li>-1.73803023252958</li>\n",
       "\t<li>-1.13702343476722</li>\n",
       "\t<li>-0.976783660467211</li>\n",
       "\t<li>-0.8013464155652</li>\n",
       "\t<li>1.36490325728979</li>\n",
       "\t<li>0.772606924195114</li>\n",
       "\t<li>-0.144168129522119</li>\n",
       "\t<li>0.439694771929794</li>\n",
       "\t<li>-1.97172008357001</li>\n",
       "\t<li>1.04091326203377</li>\n",
       "\t<li>-1.32369095932232</li>\n",
       "\t<li>0.81799183079118</li>\n",
       "\t<li>0.564710207862426</li>\n",
       "\t<li>-0.09399462547016</li>\n",
       "\t<li>-1.22902912804516</li>\n",
       "\t<li>-0.307313873512754</li>\n",
       "\t<li>-2.01928479765318</li>\n",
       "\t<li>0.663637702996858</li>\n",
       "\t<li>-0.874236524682099</li>\n",
       "\t<li>-0.169089567746657</li>\n",
       "\t<li>2.02284020191165</li>\n",
       "\t<li>-0.823556112209819</li>\n",
       "\t<li>-0.443489101544774</li>\n",
       "\t<li>0.682007629362164</li>\n",
       "\t<li>-2.48289746005379</li>\n",
       "\t<li>-1.31198991908797</li>\n",
       "\t<li>1.33674816805217</li>\n",
       "\t<li>0.206410987255302</li>\n",
       "\t<li>-0.543308279765628</li>\n",
       "\t<li>-0.0787012656223937</li>\n",
       "\t<li>-0.405729596197683</li>\n",
       "\t<li>-0.699037969722276</li>\n",
       "\t<li>0.0227847319353784</li>\n",
       "\t<li>0.912587380297457</li>\n",
       "\t<li>-1.11495428682847</li>\n",
       "\t<li>-0.350050057209577</li>\n",
       "\t<li>-0.912092116949599</li>\n",
       "\t<li>-1.60275888763667</li>\n",
       "\t<li>0.00149560191364726</li>\n",
       "\t<li>-2.34247795261262</li>\n",
       "\t<li>-2.23267377368785</li>\n",
       "\t<li>-0.273228785342255</li>\n",
       "\t<li>0.988590359722137</li>\n",
       "\t<li>0.505956010304371</li>\n",
       "\t<li>0.0960986458308269</li>\n",
       "\t<li>-0.875529706572348</li>\n",
       "\t<li>1.53285778196611</li>\n",
       "\t<li>-0.496882873437383</li>\n",
       "</ol>\n"
      ],
      "text/latex": [
       "\\begin{enumerate*}\n",
       "\\item -1.133119928925\n",
       "\\item -2.16382314378955\n",
       "\\item -0.299537753719124\n",
       "\\item 0.271384081099453\n",
       "\\item -0.984953282547921\n",
       "\\item -1.54668386149647\n",
       "\\item 0.061948815318257\n",
       "\\item 1.77006484848143\n",
       "\\item 1.08326721506244\n",
       "\\item -1.43996327072474\n",
       "\\item -0.974004007171023\n",
       "\\item -0.00916176894203581\n",
       "\\item -0.439492679415972\n",
       "\\item 1.9385196574233\n",
       "\\item -0.446892534775952\n",
       "\\item 0.348151743655097\n",
       "\\item -0.0590332412390549\n",
       "\\item -0.513539157971552\n",
       "\\item -0.230235477686811\n",
       "\\item -0.525854069447128\n",
       "\\item 1.93015334613825\n",
       "\\item -0.950896077965138\n",
       "\\item 0.0804573436388152\n",
       "\\item 1.00515585462378\n",
       "\\item 0.556069742075955\n",
       "\\item -2.13399788666043\n",
       "\\item 1.73714134438589\n",
       "\\item 0.411908316310293\n",
       "\\item 0.347223251943531\n",
       "\\item 0.6183164450949\n",
       "\\item -0.369861122697882\n",
       "\\item -1.1871159593229\n",
       "\\item 1.23734815798534\n",
       "\\item 1.89863580605753\n",
       "\\item -0.384103958340271\n",
       "\\item -1.25455647252108\n",
       "\\item -0.741695571436819\n",
       "\\item -1.9428727211854\n",
       "\\item -0.922111324436283\n",
       "\\item -1.31106001449037\n",
       "\\item -0.835630112771529\n",
       "\\item -1.01071051656144\n",
       "\\item 0.596564346512472\n",
       "\\item -0.573288012961151\n",
       "\\item -0.21476624498891\n",
       "\\item -1.7509426728903\n",
       "\\item -0.487506034617379\n",
       "\\item 1.19534420431003\n",
       "\\item -0.00557037378935467\n",
       "\\item 0.901916399826188\n",
       "\\item 0.829613898859736\n",
       "\\item 0.341643313522809\n",
       "\\item -1.73803023252958\n",
       "\\item -1.13702343476722\n",
       "\\item -0.976783660467211\n",
       "\\item -0.8013464155652\n",
       "\\item 1.36490325728979\n",
       "\\item 0.772606924195114\n",
       "\\item -0.144168129522119\n",
       "\\item 0.439694771929794\n",
       "\\item -1.97172008357001\n",
       "\\item 1.04091326203377\n",
       "\\item -1.32369095932232\n",
       "\\item 0.81799183079118\n",
       "\\item 0.564710207862426\n",
       "\\item -0.09399462547016\n",
       "\\item -1.22902912804516\n",
       "\\item -0.307313873512754\n",
       "\\item -2.01928479765318\n",
       "\\item 0.663637702996858\n",
       "\\item -0.874236524682099\n",
       "\\item -0.169089567746657\n",
       "\\item 2.02284020191165\n",
       "\\item -0.823556112209819\n",
       "\\item -0.443489101544774\n",
       "\\item 0.682007629362164\n",
       "\\item -2.48289746005379\n",
       "\\item -1.31198991908797\n",
       "\\item 1.33674816805217\n",
       "\\item 0.206410987255302\n",
       "\\item -0.543308279765628\n",
       "\\item -0.0787012656223937\n",
       "\\item -0.405729596197683\n",
       "\\item -0.699037969722276\n",
       "\\item 0.0227847319353784\n",
       "\\item 0.912587380297457\n",
       "\\item -1.11495428682847\n",
       "\\item -0.350050057209577\n",
       "\\item -0.912092116949599\n",
       "\\item -1.60275888763667\n",
       "\\item 0.00149560191364726\n",
       "\\item -2.34247795261262\n",
       "\\item -2.23267377368785\n",
       "\\item -0.273228785342255\n",
       "\\item 0.988590359722137\n",
       "\\item 0.505956010304371\n",
       "\\item 0.0960986458308269\n",
       "\\item -0.875529706572348\n",
       "\\item 1.53285778196611\n",
       "\\item -0.496882873437383\n",
       "\\end{enumerate*}\n"
      ],
      "text/markdown": [
       "1. -1.133119928925\n",
       "2. -2.16382314378955\n",
       "3. -0.299537753719124\n",
       "4. 0.271384081099453\n",
       "5. -0.984953282547921\n",
       "6. -1.54668386149647\n",
       "7. 0.061948815318257\n",
       "8. 1.77006484848143\n",
       "9. 1.08326721506244\n",
       "10. -1.43996327072474\n",
       "11. -0.974004007171023\n",
       "12. -0.00916176894203581\n",
       "13. -0.439492679415972\n",
       "14. 1.9385196574233\n",
       "15. -0.446892534775952\n",
       "16. 0.348151743655097\n",
       "17. -0.0590332412390549\n",
       "18. -0.513539157971552\n",
       "19. -0.230235477686811\n",
       "20. -0.525854069447128\n",
       "21. 1.93015334613825\n",
       "22. -0.950896077965138\n",
       "23. 0.0804573436388152\n",
       "24. 1.00515585462378\n",
       "25. 0.556069742075955\n",
       "26. -2.13399788666043\n",
       "27. 1.73714134438589\n",
       "28. 0.411908316310293\n",
       "29. 0.347223251943531\n",
       "30. 0.6183164450949\n",
       "31. -0.369861122697882\n",
       "32. -1.1871159593229\n",
       "33. 1.23734815798534\n",
       "34. 1.89863580605753\n",
       "35. -0.384103958340271\n",
       "36. -1.25455647252108\n",
       "37. -0.741695571436819\n",
       "38. -1.9428727211854\n",
       "39. -0.922111324436283\n",
       "40. -1.31106001449037\n",
       "41. -0.835630112771529\n",
       "42. -1.01071051656144\n",
       "43. 0.596564346512472\n",
       "44. -0.573288012961151\n",
       "45. -0.21476624498891\n",
       "46. -1.7509426728903\n",
       "47. -0.487506034617379\n",
       "48. 1.19534420431003\n",
       "49. -0.00557037378935467\n",
       "50. 0.901916399826188\n",
       "51. 0.829613898859736\n",
       "52. 0.341643313522809\n",
       "53. -1.73803023252958\n",
       "54. -1.13702343476722\n",
       "55. -0.976783660467211\n",
       "56. -0.8013464155652\n",
       "57. 1.36490325728979\n",
       "58. 0.772606924195114\n",
       "59. -0.144168129522119\n",
       "60. 0.439694771929794\n",
       "61. -1.97172008357001\n",
       "62. 1.04091326203377\n",
       "63. -1.32369095932232\n",
       "64. 0.81799183079118\n",
       "65. 0.564710207862426\n",
       "66. -0.09399462547016\n",
       "67. -1.22902912804516\n",
       "68. -0.307313873512754\n",
       "69. -2.01928479765318\n",
       "70. 0.663637702996858\n",
       "71. -0.874236524682099\n",
       "72. -0.169089567746657\n",
       "73. 2.02284020191165\n",
       "74. -0.823556112209819\n",
       "75. -0.443489101544774\n",
       "76. 0.682007629362164\n",
       "77. -2.48289746005379\n",
       "78. -1.31198991908797\n",
       "79. 1.33674816805217\n",
       "80. 0.206410987255302\n",
       "81. -0.543308279765628\n",
       "82. -0.0787012656223937\n",
       "83. -0.405729596197683\n",
       "84. -0.699037969722276\n",
       "85. 0.0227847319353784\n",
       "86. 0.912587380297457\n",
       "87. -1.11495428682847\n",
       "88. -0.350050057209577\n",
       "89. -0.912092116949599\n",
       "90. -1.60275888763667\n",
       "91. 0.00149560191364726\n",
       "92. -2.34247795261262\n",
       "93. -2.23267377368785\n",
       "94. -0.273228785342255\n",
       "95. 0.988590359722137\n",
       "96. 0.505956010304371\n",
       "97. 0.0960986458308269\n",
       "98. -0.875529706572348\n",
       "99. 1.53285778196611\n",
       "100. -0.496882873437383\n",
       "\n",
       "\n"
      ],
      "text/plain": [
       "  [1] -1.133119929 -2.163823144 -0.299537754  0.271384081 -0.984953283\n",
       "  [6] -1.546683861  0.061948815  1.770064848  1.083267215 -1.439963271\n",
       " [11] -0.974004007 -0.009161769 -0.439492679  1.938519657 -0.446892535\n",
       " [16]  0.348151744 -0.059033241 -0.513539158 -0.230235478 -0.525854069\n",
       " [21]  1.930153346 -0.950896078  0.080457344  1.005155855  0.556069742\n",
       " [26] -2.133997887  1.737141344  0.411908316  0.347223252  0.618316445\n",
       " [31] -0.369861123 -1.187115959  1.237348158  1.898635806 -0.384103958\n",
       " [36] -1.254556473 -0.741695571 -1.942872721 -0.922111324 -1.311060014\n",
       " [41] -0.835630113 -1.010710517  0.596564347 -0.573288013 -0.214766245\n",
       " [46] -1.750942673 -0.487506035  1.195344204 -0.005570374  0.901916400\n",
       " [51]  0.829613899  0.341643314 -1.738030233 -1.137023435 -0.976783660\n",
       " [56] -0.801346416  1.364903257  0.772606924 -0.144168130  0.439694772\n",
       " [61] -1.971720084  1.040913262 -1.323690959  0.817991831  0.564710208\n",
       " [66] -0.093994625 -1.229029128 -0.307313874 -2.019284798  0.663637703\n",
       " [71] -0.874236525 -0.169089568  2.022840202 -0.823556112 -0.443489102\n",
       " [76]  0.682007629 -2.482897460 -1.311989919  1.336748168  0.206410987\n",
       " [81] -0.543308280 -0.078701266 -0.405729596 -0.699037970  0.022784732\n",
       " [86]  0.912587380 -1.114954287 -0.350050057 -0.912092117 -1.602758888\n",
       " [91]  0.001495602 -2.342477953 -2.232673774 -0.273228785  0.988590360\n",
       " [96]  0.505956010  0.096098646 -0.875529707  1.532857782 -0.496882873"
      ]
     },
     "metadata": {},
     "output_type": "display_data"
    },
    {
     "data": {
      "text/html": [
       "6929"
      ],
      "text/latex": [
       "6929"
      ],
      "text/markdown": [
       "6929"
      ],
      "text/plain": [
       "[1] 6929"
      ]
     },
     "metadata": {},
     "output_type": "display_data"
    }
   ],
   "source": [
    "##*************\n",
    "## Homework: Law of large numbers ##\n",
    "\n",
    "#ex: coin toss\n",
    "# set up 100 normally distributed variables\n",
    "\n",
    "N <- 10000 #input\n",
    "counter <- 0\n",
    "rnorm(100)\n",
    "\n",
    "#now set up your for loop\n",
    "for(i in rnorm(N)){\n",
    "  if ( i >-1 & i < 1){\n",
    "    counter <-counter + 1\n",
    "  }\n",
    "}\n",
    "counter"
   ]
  },
  {
   "cell_type": "code",
   "execution_count": 57,
   "metadata": {},
   "outputs": [
    {
     "name": "stdout",
     "output_type": "stream",
     "text": [
      "[1] 69.29\n"
     ]
    }
   ],
   "source": [
    "perccounter <- counter/100 #percentage counter\n",
    "print(perccounter)"
   ]
  },
  {
   "cell_type": "code",
   "execution_count": 58,
   "metadata": {},
   "outputs": [],
   "source": [
    "## Observation:\n",
    "# this counter is telling us how many numbers fall between -1 and 1\n",
    "# compare percentage of numbers to 68.2%"
   ]
  }
 ],
 "metadata": {
  "kernelspec": {
   "display_name": "R",
   "language": "R",
   "name": "ir"
  },
  "language_info": {
   "codemirror_mode": "r",
   "file_extension": ".r",
   "mimetype": "text/x-r-source",
   "name": "R",
   "pygments_lexer": "r",
   "version": "3.5.1"
  }
 },
 "nbformat": 4,
 "nbformat_minor": 2
}
